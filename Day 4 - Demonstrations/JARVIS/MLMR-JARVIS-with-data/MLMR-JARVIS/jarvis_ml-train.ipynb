{
 "cells": [
  {
   "cell_type": "markdown",
   "metadata": {},
   "source": [
    "# Training a JARVIS-ML model"
   ]
  },
  {
   "cell_type": "code",
   "execution_count": 1,
   "metadata": {
    "collapsed": false
   },
   "outputs": [],
   "source": [
    "#from jarvis.sklearn.get_desc import get_comp_descp\n",
    "from monty.serialization import loadfn, MontyDecoder,dumpfn\n",
    "import numpy as np\n",
    "from sklearn.metrics import mean_absolute_error,r2_score,mean_squared_error\n",
    "import lightgbm as lgb\n",
    "import matplotlib.pyplot as plt\n",
    "plt.switch_backend('agg')\n",
    "%matplotlib inline\n",
    "import pandas as pd\n",
    "from sklearn.datasets import load_boston\n",
    "from sklearn.model_selection import train_test_split,learning_curve,cross_val_score,cross_val_predict,GridSearchCV,RandomizedSearchCV\n",
    "import scipy as sp\n",
    "import time,os,json,pprint\n",
    "from sklearn.feature_selection import SelectKBest,f_classif,SelectFromModel,VarianceThreshold\n",
    "from sklearn.pipeline import Pipeline\n",
    "from sklearn.preprocessing import StandardScaler\n",
    "\n",
    "# Download descriptors and material data from the following link:\n",
    "#  https://figshare.com/articles/JARVIS-ML-CFID-descriptors_and_material_properties/6870101 \n",
    "        \n",
    "# Websites: https://www.ctcms.nist.gov/jarvisml, https://jarvis.nist.gov\n",
    "# https://arxiv.org/abs/1805.07325\n",
    "\n",
    "# NIST-disclaimer: https://www.nist.gov/disclaimer\n",
    "\n",
    "# install from anaconda prompt:\n",
    "# conda install -c matsci monty pymatgen\n",
    "# conda install -c conda-forge spglib lightgbm "
   ]
  },
  {
   "cell_type": "markdown",
   "metadata": {},
   "source": [
    "# Exploring the JSON data"
   ]
  },
  {
   "cell_type": "code",
   "execution_count": 4,
   "metadata": {
    "collapsed": false
   },
   "outputs": [],
   "source": [
    "dat_3d=loadfn('jarvisml_cfid.json',cls=MontyDecoder)"
   ]
  },
  {
   "cell_type": "code",
   "execution_count": 9,
   "metadata": {
    "collapsed": false
   },
   "outputs": [
    {
     "data": {
      "text/plain": [
       "24759"
      ]
     },
     "execution_count": 9,
     "metadata": {},
     "output_type": "execute_result"
    }
   ],
   "source": [
    "# Size of the data\n",
    "len(dat_3d)"
   ]
  },
  {
   "cell_type": "code",
   "execution_count": 5,
   "metadata": {
    "collapsed": false
   },
   "outputs": [],
   "source": [
    "#Available keys"
   ]
  },
  {
   "cell_type": "code",
   "execution_count": 10,
   "metadata": {
    "collapsed": false
   },
   "outputs": [
    {
     "data": {
      "text/plain": [
       "dict_keys(['gv', 'kp_leng', 'form_enp', 'kv', 'hl_mass', 'hl_mass_z', 'magmom', 'hl_mass_y', 'hl_mass_x', 'type', 'encut', 'el_mass_z', 'multi_elastic', 'strt', 'epsy', 'desc', 'el_mass', 'epsz', 'mepsz', 'el_mass_x', 'el_mass_y', 'op_gap', 'mepsy', 'mpid', 'fin_enp', 'jid', 'exfoliation_en', 'epsx', 'mepsx', 'mbj_gap'])"
      ]
     },
     "execution_count": 10,
     "metadata": {},
     "output_type": "execute_result"
    }
   ],
   "source": [
    "dat_3d[0].keys()"
   ]
  },
  {
   "cell_type": "code",
   "execution_count": 11,
   "metadata": {
    "collapsed": true
   },
   "outputs": [],
   "source": [
    "# desc: 1557 descriptors\n",
    "# form_enp: formation energy per atom (eV/atom)\n",
    "# op_gap: OptB88vdW functional based bandgap (eV)\n",
    "# mbj_gap: TBmBJ functional based bandgap (eV)\n",
    "# kv: Voigt bulk mod. (GPa)\n",
    "# gv: Shear bulk mod. (GPa)\n",
    "# elastic: elastic tensor instring format, use the function 'get_et' to convert into pymatgen elastictensor object\n",
    "# epsx: Static dielctric function value in x-direction based on OptB88vdW (no unit)\n",
    "# mepsx: Static dielctric function value in x-direction based on TBmBJ (no unit)\n",
    "# magmom: Magnetic moment (Bohr magneton) [from OUTCAR and from OSZICAR], generally OSZICAR value is preferred\n",
    "# kp_leng: Kpoint automatic line density obtained after automatic convergence (Angstrom), substract 25 because 5 extra points were taken during convergence\n",
    "# encut: Plane wave cut-off value obtained after automatic convergence\n",
    "# exfoliation_en: exfoliation energy\n",
    "# strt: final structure after relaxation with OptB88vdW\n",
    "# el/hl_mass: effective mass with BoltzTrap at 300K for electrons/holes\n",
    "#'na' signifies non-available data"
   ]
  },
  {
   "cell_type": "code",
   "execution_count": 12,
   "metadata": {
    "collapsed": false
   },
   "outputs": [
    {
     "name": "stdout",
     "output_type": "stream",
     "text": [
      "{'desc': array([ 4310.55  ,  3193.1684,    10.542 , ...,     8.    ,     0.    ,\n",
      "           0.    ]),\n",
      " 'el_mass': [6.023889743488937e-07,\n",
      "             6.023889743488937e-07,\n",
      "             6.023889743488937e-07],\n",
      " 'el_mass_x': 6.023889743488937e-07,\n",
      " 'el_mass_y': 6.023889743488937e-07,\n",
      " 'el_mass_z': 6.023889743488937e-07,\n",
      " 'encut': 600,\n",
      " 'epsx': 'na',\n",
      " 'epsy': 'na',\n",
      " 'epsz': 'na',\n",
      " 'exfoliation_en': 'na',\n",
      " 'fin_enp': -2.71548755,\n",
      " 'form_enp': 0.161,\n",
      " 'gv': 'na',\n",
      " 'hl_mass': [6.023889485944474e-07,\n",
      "             6.023889485944475e-07,\n",
      "             6.02388948594448e-07],\n",
      " 'hl_mass_x': 6.023889485944474e-07,\n",
      " 'hl_mass_y': 6.023889485944475e-07,\n",
      " 'hl_mass_z': 6.02388948594448e-07,\n",
      " 'jid': 'JVASP-11946',\n",
      " 'kp_leng': 90,\n",
      " 'kv': 'na',\n",
      " 'magmom': 2.278903,\n",
      " 'mbj_gap': 'na',\n",
      " 'mepsx': 'na',\n",
      " 'mepsy': 'na',\n",
      " 'mepsz': 'na',\n",
      " 'mpid': 'mp-1006883',\n",
      " 'multi_elastic': 'na',\n",
      " 'op_gap': 0.0015999999999998238,\n",
      " 'strt': Structure Summary\n",
      "Lattice\n",
      "    abc : 2.8018838472201355 2.8018838472201355 2.8018838472201355\n",
      " angles : 90.0 90.0 90.0\n",
      " volume : 21.996337903898066\n",
      "      A : 2.8018838472201355 -0.0 0.0\n",
      "      B : -0.0 2.8018838472201355 0.0\n",
      "      C : -0.0 -0.0 2.8018838472201355\n",
      "PeriodicSite: Co (1.4009, 1.4009, 1.4009) [0.5000, 0.5000, 0.5000]\n",
      "PeriodicSite: Ni (0.0000, 0.0000, 0.0000) [0.0000, 0.0000, 0.0000],\n",
      " 'type': '3D-bulk'}\n"
     ]
    }
   ],
   "source": [
    "pprint.pprint(dat_3d[0])"
   ]
  },
  {
   "cell_type": "code",
   "execution_count": 13,
   "metadata": {
    "collapsed": false
   },
   "outputs": [
    {
     "name": "stdout",
     "output_type": "stream",
     "text": [
      "fin_enp 24759\n",
      "mepsy 10560\n",
      "form_enp 24759\n",
      "exfoliation_en 564\n",
      "mepsz 10560\n",
      "hl_mass 19978\n",
      "magmom 24759\n",
      "mepsx 10560\n",
      "op_gap 22394\n",
      "mbj_gap 7055\n"
     ]
    }
   ],
   "source": [
    "#Avilable data \n",
    "keys=['gv','kv','fin_enp','op_gap','mbj_gap','magmom','epsx','epsy','epsz','mepsx','mepsy','mepsz','hl_mass','form_enp','exfoliation_en']\n",
    "info={}\n",
    "for i in dat_3d:\n",
    "  for j in keys:\n",
    "     if i[j]!='na' and i[j]!={}:\n",
    "            info.setdefault(j, []).append(i['jid'])\n",
    "for i,j in info.items():\n",
    "    print (i,len(j))\n"
   ]
  },
  {
   "cell_type": "markdown",
   "metadata": {},
   "source": [
    "# Pandas dataframe"
   ]
  },
  {
   "cell_type": "code",
   "execution_count": 14,
   "metadata": {
    "collapsed": false
   },
   "outputs": [],
   "source": [
    "jid, opgap, mbjgap, energy,form_energy,magmom, exfen, url =[],[],[],[],[],[],[],[]\n"
   ]
  },
  {
   "cell_type": "code",
   "execution_count": 15,
   "metadata": {
    "collapsed": true
   },
   "outputs": [],
   "source": [
    "for i in dat_3d:\n",
    "    jid.append(i['jid'])\n",
    "    opgap.append(i['op_gap'])\n",
    "    mbjgap.append(i['mbj_gap'])\n",
    "    magmom.append(i['magmom'])\n",
    "    energy.append(i['fin_enp'])\n",
    "    form_energy.append(i['form_enp'])\n",
    "    exfen.append(i['exfoliation_en'])\n",
    "    url.append(str(\"https://www.ctcms.nist.gov/~knc6/jsmol/\")+str(i['jid'])+str(\".html\"))"
   ]
  },
  {
   "cell_type": "code",
   "execution_count": 16,
   "metadata": {
    "collapsed": true
   },
   "outputs": [],
   "source": [
    "headers = ['JARVIS_ID','OPT_Gap','MBJ_Gap','Magnetic_moment','Final_Energy','Formation energy','Exfoliation_Energy','URL']"
   ]
  },
  {
   "cell_type": "code",
   "execution_count": 17,
   "metadata": {
    "collapsed": true
   },
   "outputs": [],
   "source": [
    "df = pd.DataFrame([jid,opgap,mbjgap,magmom,energy,form_energy,exfen,url])"
   ]
  },
  {
   "cell_type": "code",
   "execution_count": 18,
   "metadata": {
    "collapsed": true
   },
   "outputs": [],
   "source": [
    "df = df.transpose()\n",
    "df.columns = headers"
   ]
  },
  {
   "cell_type": "code",
   "execution_count": 19,
   "metadata": {
    "collapsed": false
   },
   "outputs": [
    {
     "data": {
      "text/html": [
       "<div>\n",
       "<table border=\"1\" class=\"dataframe\">\n",
       "  <thead>\n",
       "    <tr style=\"text-align: right;\">\n",
       "      <th></th>\n",
       "      <th>JARVIS_ID</th>\n",
       "      <th>OPT_Gap</th>\n",
       "      <th>MBJ_Gap</th>\n",
       "      <th>Magnetic_moment</th>\n",
       "      <th>Final_Energy</th>\n",
       "      <th>Formation energy</th>\n",
       "      <th>Exfoliation_Energy</th>\n",
       "      <th>URL</th>\n",
       "    </tr>\n",
       "  </thead>\n",
       "  <tbody>\n",
       "    <tr>\n",
       "      <th>0</th>\n",
       "      <td>JVASP-11946</td>\n",
       "      <td>0.0016</td>\n",
       "      <td>na</td>\n",
       "      <td>2.2789</td>\n",
       "      <td>-2.71549</td>\n",
       "      <td>0.161</td>\n",
       "      <td>na</td>\n",
       "      <td>https://www.ctcms.nist.gov/~knc6/jsmol/JVASP-1...</td>\n",
       "    </tr>\n",
       "    <tr>\n",
       "      <th>1</th>\n",
       "      <td>JVASP-11947</td>\n",
       "      <td>0.0018</td>\n",
       "      <td>na</td>\n",
       "      <td>5.53084</td>\n",
       "      <td>-3.61931</td>\n",
       "      <td>0.006</td>\n",
       "      <td>na</td>\n",
       "      <td>https://www.ctcms.nist.gov/~knc6/jsmol/JVASP-1...</td>\n",
       "    </tr>\n",
       "    <tr>\n",
       "      <th>2</th>\n",
       "      <td>JVASP-11948</td>\n",
       "      <td>0.0019</td>\n",
       "      <td>na</td>\n",
       "      <td>1.53273</td>\n",
       "      <td>-5.85766</td>\n",
       "      <td>-0.014</td>\n",
       "      <td>na</td>\n",
       "      <td>https://www.ctcms.nist.gov/~knc6/jsmol/JVASP-1...</td>\n",
       "    </tr>\n",
       "    <tr>\n",
       "      <th>3</th>\n",
       "      <td>JVASP-11949</td>\n",
       "      <td>0.0098</td>\n",
       "      <td>na</td>\n",
       "      <td>0</td>\n",
       "      <td>-0.333393</td>\n",
       "      <td>-0.21</td>\n",
       "      <td>na</td>\n",
       "      <td>https://www.ctcms.nist.gov/~knc6/jsmol/JVASP-1...</td>\n",
       "    </tr>\n",
       "    <tr>\n",
       "      <th>4</th>\n",
       "      <td>JVASP-11950</td>\n",
       "      <td>0.0143</td>\n",
       "      <td>na</td>\n",
       "      <td>-0</td>\n",
       "      <td>-2.54869</td>\n",
       "      <td>-0.648</td>\n",
       "      <td>na</td>\n",
       "      <td>https://www.ctcms.nist.gov/~knc6/jsmol/JVASP-1...</td>\n",
       "    </tr>\n",
       "  </tbody>\n",
       "</table>\n",
       "</div>"
      ],
      "text/plain": [
       "     JARVIS_ID OPT_Gap MBJ_Gap Magnetic_moment Final_Energy Formation energy  \\\n",
       "0  JVASP-11946  0.0016      na          2.2789     -2.71549            0.161   \n",
       "1  JVASP-11947  0.0018      na         5.53084     -3.61931            0.006   \n",
       "2  JVASP-11948  0.0019      na         1.53273     -5.85766           -0.014   \n",
       "3  JVASP-11949  0.0098      na               0    -0.333393            -0.21   \n",
       "4  JVASP-11950  0.0143      na              -0     -2.54869           -0.648   \n",
       "\n",
       "  Exfoliation_Energy                                                URL  \n",
       "0                 na  https://www.ctcms.nist.gov/~knc6/jsmol/JVASP-1...  \n",
       "1                 na  https://www.ctcms.nist.gov/~knc6/jsmol/JVASP-1...  \n",
       "2                 na  https://www.ctcms.nist.gov/~knc6/jsmol/JVASP-1...  \n",
       "3                 na  https://www.ctcms.nist.gov/~knc6/jsmol/JVASP-1...  \n",
       "4                 na  https://www.ctcms.nist.gov/~knc6/jsmol/JVASP-1...  "
      ]
     },
     "execution_count": 19,
     "metadata": {},
     "output_type": "execute_result"
    }
   ],
   "source": [
    "df.head()\n"
   ]
  },
  {
   "cell_type": "markdown",
   "metadata": {},
   "source": [
    "# List of helpful functions"
   ]
  },
  {
   "cell_type": "code",
   "execution_count": 20,
   "metadata": {
    "collapsed": false
   },
   "outputs": [],
   "source": [
    "#collection of functions\n",
    "def isfloat(value):\n",
    "  try:\n",
    "    float(value)\n",
    "    return True\n",
    "  except :\n",
    "    return False\n",
    "    pass\n",
    "\n",
    "#Get data and descriptors for a particular properties\n",
    "def jdata(data_file='jarvisml_cfid.json',prop=''):\n",
    "  d3=loadfn(data_file,cls=MontyDecoder)\n",
    "  X=[]\n",
    "  Y=[]\n",
    "  jid=[]\n",
    "  for ii,i in enumerate(d3):\n",
    "    y=i[prop]\n",
    "    if isfloat(y):\n",
    "      y=float(y)\n",
    "      x=i['desc']\n",
    "      if len(x)==1557 and any(np.isnan(x) for x in x.flatten())==False:\n",
    "        if 'eps' in prop:\n",
    "          y=np.sqrt(float(y))\n",
    "        if 'mag' in prop:\n",
    "           num=get_number_formula_unit(i['strt'])\n",
    "           y=float(abs(y))/float(num)\n",
    "        X.append(x)\n",
    "        Y.append(y)\n",
    "        jid.append(i['jid'])\n",
    "  print ('Prop=',prop,len(X),len(Y))\n",
    "  X=np.array(X).astype(np.float64)\n",
    "  Y=np.array(Y).astype(np.float64)\n",
    "  return X,Y,jid\n",
    "\n",
    "def plot_learning_curve(estimator=None, scoring='neg_mean_absolute_error',title='', X=None, y=None, ylim=None, cv=5,\n",
    "                        #n_jobs=-1, train_sizes=np.linspace(.1, 1.0, 10),fname='fig.png'):\n",
    "                        n_jobs=n_jobs, train_sizes=np.linspace(.01, 1.0, 50),fname='fig.png'):\n",
    "    plt.figure()\n",
    "    #fname='fig.png'\n",
    "    plt.title(title)\n",
    "    mem={}\n",
    "    if ylim is not None:\n",
    "        plt.ylim(*ylim)\n",
    "    plt.xlabel(\"Training examples\")\n",
    "    plt.ylabel(\"Score\")\n",
    "    train_sizes, train_scores, test_scores = learning_curve(\n",
    "        estimator, X, y, cv=cv, n_jobs=n_jobs, train_sizes=train_sizes,scoring=scoring)\n",
    "    train_scores_mean = np.mean(train_scores, axis=1)\n",
    "    train_scores_std = np.std(train_scores, axis=1)\n",
    "    test_scores_mean = np.mean(test_scores, axis=1)\n",
    "    test_scores_std = np.std(test_scores, axis=1)\n",
    "    plt.grid()\n",
    "    mem['train_sizes']=train_sizes\n",
    "    mem['train_scores_mean']=train_scores_mean\n",
    "    mem['test_scores_mean']=test_scores_mean\n",
    "    mem['train_scores_std']=train_scores_std\n",
    "    mem['test_scores_std']=test_scores_std\n",
    "\n",
    "    plt.fill_between(train_sizes, train_scores_mean - train_scores_std,\n",
    "                     train_scores_mean + train_scores_std, alpha=0.1,\n",
    "                     color=\"r\")\n",
    "    plt.fill_between(train_sizes, test_scores_mean - test_scores_std,\n",
    "                     test_scores_mean + test_scores_std, alpha=0.1, color=\"g\")\n",
    "    plt.plot(train_sizes, train_scores_mean, 'o-', color=\"r\",\n",
    "             label=\"Training score\")\n",
    "    plt.plot(train_sizes, test_scores_mean, 'o-', color=\"g\",\n",
    "             label=\"Cross-validation score\")\n",
    "\n",
    "    plt.legend(loc=\"best\")\n",
    "    fname=str(fname)+str('_learn_1.png')\n",
    "    plt.show()\n",
    "    plt.savefig(fname)\n",
    "    plt.close()\n",
    "\n",
    "    data=str(fname)+str('learn_data')\n",
    "    f=open(data,'w')\n",
    "    line=str('train_sizes ')+str('train_scores_mean ')+str('train_scores_std ')+str('test_scores_mean ')+str('test_scores_std ')+'\\n'\n",
    "    f.write(line)\n",
    "    for i,j,k,l,m in zip(train_sizes,train_scores_mean,train_scores_std,test_scores_mean,test_scores_std):\n",
    "        line=str(i)+str(' ')+str(j)+str(' ')+str(k)+str(' ')+str(l)+str(' ')+str(m)+str('\\n')\n",
    "        f.write(line)\n",
    "    f.close()\n",
    "\n",
    "    plt.figure()\n",
    "    plt.title(title)\n",
    "    if ylim is not None:\n",
    "        plt.ylim(*ylim)\n",
    "    plt.xlabel(\"Training examples\")\n",
    "    plt.ylabel(\"Score\")\n",
    "    plt.grid()\n",
    "    plt.fill_between(train_sizes, test_scores_mean - test_scores_std,\n",
    "                     test_scores_mean + test_scores_std, alpha=0.1, color=\"g\")\n",
    "    plt.plot(train_sizes, test_scores_mean, 'o-', color=\"g\",\n",
    "             label=\"Cross-validation score\")\n",
    "    plt.legend(loc=\"best\")\n",
    "    fname=str(fname)+str('_learn_2.png')\n",
    "    plt.show()\n",
    "    plt.savefig(fname)\n",
    "    plt.close()\n",
    "    return mem\n",
    "\n",
    "def regr_scores(pred,test):\n",
    "   rmse=np.sqrt(mean_squared_error(test, pred))\n",
    "   r2=r2_score(test, pred)\n",
    "   mae=(mean_absolute_error(test, pred))\n",
    "   info={}\n",
    "   info['mae']=mae\n",
    "   info['rmse']=rmse\n",
    "   info['r2']=r2\n",
    "   info['test']=test\n",
    "   info['pred']=pred\n",
    "   return info\n",
    "\n",
    "\n",
    "def get_lgbm(train_x, val_x, train_y,val_y,cv,n_jobs,scoring):\n",
    "    # Get converged boosting iterations with high learning rate, MAE as the convergence crietria\n",
    "    lgbm = lgb.LGBMRegressor(\n",
    "                             n_estimators=1000,\n",
    "                             learning_rate=0.1,\n",
    "                             max_depth=5,\n",
    "                             num_leaves=100,\n",
    "                             objective='regression',\n",
    "                             #min_data_in_leaf=2,\n",
    "                             n_jobs=-1,\n",
    "                             verbose=-1\n",
    "                            )\n",
    "\n",
    "    lgbm.fit(train_x, train_y,\n",
    "        eval_set=[(val_x, val_y)],\n",
    "        eval_metric='mae',\n",
    "        #eval_metric='l1',\n",
    "        early_stopping_rounds=10)\n",
    "    num_iteration=lgbm.best_iteration_\n",
    "    print ('num_iteration',num_iteration)\n",
    "    print ('in randomsearch cv')\n",
    "\n",
    "    #Generally thousands of randomized search for optimal parameters\n",
    "    # learning rate and num_leaves are very important\n",
    "    param_dist = {\n",
    "                    #'boosting_type': [ 'dart'],\n",
    "                    #'boosting_type': ['gbdt', 'dart', 'rf'],\n",
    "                    #'num_leaves': sp.stats.randint(2, 1001),\n",
    "                    #'subsample_for_bin': sp.stats.randint(10, 1001),\n",
    "                    #'min_split_gain': sp.stats.uniform(0, 5.0),\n",
    "                    #'min_child_weight': sp.stats.uniform(1e-6, 1e-2),\n",
    "                    #'reg_alpha': sp.stats.uniform(0, 1e-2),\n",
    "                    #'reg_lambda': sp.stats.uniform(0, 1e-2),\n",
    "                    #'tree_learner': ['data', 'feature', 'serial', 'voting' ],\n",
    "                    #'application': ['regression_l1', 'regression_l2', 'regression'],\n",
    "                    #'bagging_freq': sp.stats.randint(1, 11),\n",
    "                    #'bagging_fraction': sp.stats.uniform(.1, 0.9),\n",
    "                    #'feature_fraction': sp.stats.uniform(.1, 0.9),\n",
    "                    #'learning_rate': sp.stats.uniform(1e-3, 0.9),\n",
    "\n",
    "                    #'est__num_leaves': [2,8,16],\n",
    "                    #'est__min_data_in_leaf': [1,2,4],\n",
    "                    #'est__learning_rate': [0.005,0.01,0.1],\n",
    "                    #'est__max_depth': [1,3,5], #sp.stats.randint(1, 501),\n",
    "                    #'est__n_estimators': [num_iteration,2*num_iteration,5*num_iteration],#sp.stats.randint(100, 20001),\n",
    "                    #'gpu_use_dp': [True, False],\n",
    "                    #'est__num_leaves': sp.stats.randint(3, 1000),\n",
    "                    #'est__max_depth': sp.stats.randint(1, 5),\n",
    "                    'est__learning_rate': sp.stats.uniform(1e-3, 0.9),\n",
    "\n",
    "                 }\n",
    "    lgbm = lgb.LGBMRegressor(\n",
    "                             objective='regression',\n",
    "                             #device='gpu',\n",
    "                             n_estimators=num_iteration,\n",
    "                             n_jobs=n_jobs,\n",
    "                             verbose=-1\n",
    "                            )\n",
    "    pipe = Pipeline([\n",
    "                   ('stdscal', StandardScaler()),\n",
    "                    (\"vart\", VarianceThreshold(1e-4)),\n",
    "                     ('est', lgbm)\n",
    "                ])\n",
    "\n",
    "    n_iter=10\n",
    "    # Increase n_iter\n",
    "    rscv = RandomizedSearchCV(\n",
    "                              estimator=pipe,\n",
    "                              param_distributions=param_dist,\n",
    "                              cv=cv,\n",
    "                              scoring=scoring,\n",
    "                              n_iter=n_iter,\n",
    "                              n_jobs=n_jobs,\n",
    "                              verbose=3,\n",
    "                              refit=True,\n",
    "                            )\n",
    "    rscv = rscv.fit(train_x,train_y)\n",
    "    return rscv.best_estimator_\n"
   ]
  },
  {
   "cell_type": "markdown",
   "metadata": {},
   "source": [
    "# Step by step training "
   ]
  },
  {
   "cell_type": "code",
   "execution_count": 39,
   "metadata": {
    "collapsed": true
   },
   "outputs": [],
   "source": [
    "# Main-function\n",
    "def run(version='version_1',scoring='neg_mean_absolute_error',cv=5,n_jobs=1,prop='op_gap',do_cv=False):\n",
    "\n",
    " name=str(version)+str('_')+str(prop)\n",
    " # Make a directory for storing results\n",
    " dir_name=str(os.getcwd())+str(\"/\")+str(name)\n",
    " if not os.path.exists(dir_name): os.makedirs(dir_name)\n",
    " os.chdir(dir_name)\n",
    "\n",
    "\n",
    "\n",
    " info={}\n",
    " tmp_time=time.time()\n",
    "\n",
    " #STEP-1: Data for a particular model\n",
    "\n",
    " x,y,jid=jdata(prop=prop)\n",
    "\n",
    " # Toy example with boston data\n",
    " #boston=load_boston()\n",
    " #x, y = boston['data'], boston['target']\n",
    "\n",
    " #STEP-2: Splitting the data\n",
    " # 90-10% split for train test\n",
    " X_train, X_test, y_train, y_test,jid_train,jid_test = train_test_split(x, y,jid, random_state=1, test_size=0.1)\n",
    "\n",
    " #further split for boosting iteration convergence\n",
    " X_train1, X_test1, y_train1, y_test1 = train_test_split(X_train, y_train, random_state=1, test_size=0.1)\n",
    " print ('lenx len y',len(x[0]),len(y))\n",
    "\n",
    " #STEP-3: GBM model with converged iterations\n",
    "\n",
    " model=get_lgbm(X_train1, X_test1, y_train1, y_test1,cv,n_jobs,scoring)\n",
    "\n",
    "\n",
    " model.fit(X_train,y_train)\n",
    " print (model,model.named_steps['est'].n_estimators)\n",
    " print ('model',model.__dict__)\n",
    " #info['model']=model.__dict__\n",
    "\n",
    " #STEP-4: Predict on 10% held data and  accuracy\n",
    "\n",
    " pred=model.predict(X_test)\n",
    " reg_sc=regr_scores(y_test,pred)\n",
    "\n",
    " print ('reg_sc',reg_sc)\n",
    " info['reg_sc']=reg_sc\n",
    " info['y']=y\n",
    " info['time']=time.time()-tmp_time\n",
    " info['jid_test']=jid_test\n",
    "\n",
    " model.fit(X_train1,y_train1)\n",
    " print('Plot feature importances...')\n",
    "\n",
    " #STEP-5: Feature importance\n",
    " feat_imp = model.named_steps['est'].feature_importances_ #feature_importances_\n",
    " feat_imp=np.array([float(i)/float(np.sum(feat_imp)) for i in feat_imp])\n",
    " print ('feat_imp',name,feat_imp,len(feat_imp))\n",
    "\n",
    " # Since variance threshold removed some features\n",
    " keep_indices2=model.named_steps['vart'].get_support(indices=True)\n",
    " info['keep_indices_sel']=keep_indices2\n",
    "\n",
    " print ('keep_indices2',keep_indices2,len(keep_indices2))\n",
    "\n",
    " indices = np.argsort(feat_imp)[::-1]\n",
    " xs=feat_imp[indices]\n",
    " ys=keep_indices2[indices]\n",
    "\n",
    " print ('xs,ys',len(xs),len(ys))\n",
    " data_imp=[]\n",
    " f=open('feat_names.json','r')\n",
    " names=json.load(f)\n",
    " f.close()\n",
    "\n",
    " for f in range(len(xs)):\n",
    "   print (f,xs[f],names[ys[f]])\n",
    "   data_imp.append([f,xs[f],names[ys[f]]])\n",
    " info['feature_importance']=data_imp\n",
    "\n",
    " #STEP-6: N-fold cross-validation prediction\n",
    "\n",
    " scores = cross_val_score(model, x, y, cv=cv,n_jobs=n_jobs,scoring='mean_absolute_error')\n",
    " print(\"MAE-Score: %0.2f (+/- %0.2f)\" % (scores.mean(), scores.std() * 2))\n",
    " info['cross_val_scores']=scores\n",
    "\n",
    " fname=str(name)+str('-GB-CV.png')\n",
    " predicted = cross_val_predict(model, x, y, cv=cv,n_jobs=n_jobs)\n",
    " fig, ax = plt.subplots()\n",
    " ax.set_xlabel('DFT prediction')\n",
    " ax.set_ylabel('ML prediction')\n",
    " print ('cv_predicted')\n",
    " cvpred={}\n",
    " cvpred['cross_val_y']=y\n",
    " cvpred['cross_val_predicted']=predicted\n",
    " info['cvpredict_result']=cvpred\n",
    "\n",
    " ax.scatter(y, predicted, edgecolors=(0, 0, 0))\n",
    " plt.savefig(fname)\n",
    " plt.close()\n",
    "\n",
    " #STEP-7: Plot learning curve\n",
    "\n",
    " mem_learn=plot_learning_curve(estimator=model,scoring=scoring,fname=name,title=\"\",X=x, y=y,n_jobs=n_jobs)\n",
    " info['learning_curve_data']=mem_learn\n",
    "\n",
    " #STEP-8: Store ML parameters with pickle and joblib\n",
    "\n",
    " model.fit(x,y)\n",
    " filename=str('pickle2-')+str(name)+str('.pk')\n",
    " pickle.dump( model, open( filename, \"wb\" ) )\n",
    " filename=str('joblib2-')+str(name)+str('.pkl')\n",
    " joblib.dump(model, filename)\n",
    "\n",
    " #STEP-9: Store data in a json file\n",
    "\n",
    " file=str(name)+'_info.json'\n",
    " f=open(file,'w')\n",
    " f.write(json.dumps(info,cls=MontyEncoder,indent=4))\n",
    " f.close()\n",
    " os.chdir('../')\n",
    "\n",
    "# This may take long time\n",
    "# run(version='version_1',scoring='neg_mean_absolute_error',cv=5,n_jobs=1,prop='op_gap',do_cv=False)\n",
    "\n"
   ]
  },
  {
   "cell_type": "markdown",
   "metadata": {},
   "source": [
    "# Quick ML training example for formation energy"
   ]
  },
  {
   "cell_type": "code",
   "execution_count": 21,
   "metadata": {
    "collapsed": false
   },
   "outputs": [],
   "source": [
    " #or just test fit model \n",
    " model = lgb.LGBMRegressor(\n",
    "                    n_estimators=100,\n",
    "                    learning_rate=0.1,\n",
    "                    max_depth=5,\n",
    "                    num_leaves=100,\n",
    "                    objective='regression',\n",
    "                    n_jobs=-1,\n",
    "                    verbose=-1\n",
    "                   )"
   ]
  },
  {
   "cell_type": "code",
   "execution_count": 22,
   "metadata": {
    "collapsed": false
   },
   "outputs": [
    {
     "name": "stdout",
     "output_type": "stream",
     "text": [
      "Prop= form_enp 24759 24759\n"
     ]
    }
   ],
   "source": [
    "x,y,jid=jdata(prop='form_enp')\n",
    "X_train, X_test, y_train, y_test,jid_train,jid_test = train_test_split(x, y,jid, random_state=1, test_size=0.1)"
   ]
  },
  {
   "cell_type": "code",
   "execution_count": 26,
   "metadata": {
    "collapsed": false
   },
   "outputs": [
    {
     "data": {
      "text/plain": [
       "(22283, 2476)"
      ]
     },
     "execution_count": 26,
     "metadata": {},
     "output_type": "execute_result"
    }
   ],
   "source": [
    "len(X_train), len(X_test)"
   ]
  },
  {
   "cell_type": "code",
   "execution_count": 28,
   "metadata": {
    "collapsed": false
   },
   "outputs": [],
   "source": [
    "#Let's take 500 of training set as a quick example\n",
    "X=X_train[0:500]\n",
    "Y=y_train[0:500]"
   ]
  },
  {
   "cell_type": "code",
   "execution_count": 31,
   "metadata": {
    "collapsed": false
   },
   "outputs": [
    {
     "data": {
      "text/plain": [
       "1557"
      ]
     },
     "execution_count": 31,
     "metadata": {},
     "output_type": "execute_result"
    }
   ],
   "source": [
    "len(X[0])"
   ]
  },
  {
   "cell_type": "code",
   "execution_count": 32,
   "metadata": {
    "collapsed": false
   },
   "outputs": [
    {
     "data": {
      "text/plain": [
       "LGBMRegressor(boosting_type='gbdt', class_weight=None, colsample_bytree=1.0,\n",
       "       learning_rate=0.1, max_depth=5, min_child_samples=20,\n",
       "       min_child_weight=0.001, min_split_gain=0.0, n_estimators=100,\n",
       "       n_jobs=-1, num_leaves=100, objective='regression',\n",
       "       random_state=None, reg_alpha=0.0, reg_lambda=0.0, silent=True,\n",
       "       subsample=1.0, subsample_for_bin=200000, subsample_freq=0,\n",
       "       verbose=-1)"
      ]
     },
     "execution_count": 32,
     "metadata": {},
     "output_type": "execute_result"
    }
   ],
   "source": [
    "model.fit(X,Y)"
   ]
  },
  {
   "cell_type": "code",
   "execution_count": 33,
   "metadata": {
    "collapsed": true
   },
   "outputs": [],
   "source": [
    " pred=model.predict(X_test)\n",
    " reg_sc=regr_scores(y_test,pred)"
   ]
  },
  {
   "cell_type": "code",
   "execution_count": 34,
   "metadata": {
    "collapsed": false
   },
   "outputs": [
    {
     "data": {
      "text/plain": [
       "{'mae': 0.30159100777069109,\n",
       " 'pred': array([-1.397, -1.619, -1.903, ..., -0.074, -0.966, -3.005]),\n",
       " 'r2': 0.79593580543372378,\n",
       " 'rmse': 0.41913838982329049,\n",
       " 'test': array([-1.99505582, -2.06487988, -1.70864231, ..., -0.57396132,\n",
       "        -1.0390673 , -1.46455951])}"
      ]
     },
     "execution_count": 34,
     "metadata": {},
     "output_type": "execute_result"
    }
   ],
   "source": [
    "reg_sc"
   ]
  },
  {
   "cell_type": "markdown",
   "metadata": {},
   "source": [
    "# Visualization with manifold t-SNE"
   ]
  },
  {
   "cell_type": "code",
   "execution_count": 45,
   "metadata": {
    "collapsed": false
   },
   "outputs": [
    {
     "name": "stdout",
     "output_type": "stream",
     "text": [
      "[t-SNE] Computing pairwise distances...\n",
      "[t-SNE] Computing 301 nearest neighbors...\n",
      "[t-SNE] Computed conditional probabilities for sample 500 / 500\n",
      "[t-SNE] Mean sigma: 714.524558\n",
      "[t-SNE] KL divergence after 100 iterations with early exaggeration: 0.260345\n",
      "[t-SNE] Error after 175 iterations: 0.260345\n"
     ]
    },
    {
     "data": {
      "text/plain": [
       "TSNE(angle=0.5, early_exaggeration=4.0, init='random', learning_rate=1000.0,\n",
       "   method='barnes_hut', metric='euclidean', min_grad_norm=1e-07,\n",
       "   n_components=2, n_iter=1000, n_iter_without_progress=30, perplexity=100,\n",
       "   random_state=None, verbose=True)"
      ]
     },
     "execution_count": 45,
     "metadata": {},
     "output_type": "execute_result"
    }
   ],
   "source": [
    "from sklearn import decomposition,manifold\n",
    "pca = decomposition.PCA(n_components=30)\n",
    "Z_pca = pca.fit_transform(X)\n",
    "\n",
    "# note: scikit-learn docs are incorrect when they state that perplexity isn't an important hyperparameter...\n",
    "sne = manifold.TSNE(perplexity=100, verbose=True)\n",
    "sne.fit(Z_pca)"
   ]
  },
  {
   "cell_type": "code",
   "execution_count": 68,
   "metadata": {
    "collapsed": false
   },
   "outputs": [
    {
     "data": {
      "image/png": "[encoded data removed]",
      "text/plain": [
       "<matplotlib.figure.Figure at 0x14453208>"
      ]
     },
     "metadata": {},
     "output_type": "display_data"
    }
   ],
   "source": [
    "import matplotlib.pyplot as plt\n",
    "%matplotlib inline\n",
    "plt.scatter(sne.embedding_[:,0],sne.embedding_[:,1],c=Y)\n",
    "plt.show()"
   ]
  },
  {
   "cell_type": "code",
   "execution_count": null,
   "metadata": {
    "collapsed": true
   },
   "outputs": [],
   "source": []
  }
 ],
 "metadata": {
  "anaconda-cloud": {},
  "kernelspec": {
   "display_name": "Python 3",
   "language": "python",
   "name": "python3"
  },
  "language_info": {
   "codemirror_mode": {
    "name": "ipython",
    "version": 3
   },
   "file_extension": ".py",
   "mimetype": "text/x-python",
   "name": "python",
   "nbconvert_exporter": "python",
   "pygments_lexer": "ipython3",
   "version": "3.6.5"
  }
 },
 "nbformat": 4,
 "nbformat_minor": 2
}
