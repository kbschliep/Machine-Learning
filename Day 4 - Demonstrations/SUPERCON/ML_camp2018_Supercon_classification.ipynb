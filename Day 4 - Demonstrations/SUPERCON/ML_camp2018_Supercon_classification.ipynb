{
 "cells": [
  {
   "cell_type": "code",
   "execution_count": 1,
   "metadata": {},
   "outputs": [],
   "source": [
    "import numpy as np\n",
    "import pandas as pd\n",
    "import matplotlib.pyplot as plt\n",
    "import sklearn\n",
    "plt.style.use('ggplot')"
   ]
  },
  {
   "cell_type": "markdown",
   "metadata": {},
   "source": [
    "## Read and check the data"
   ]
  },
  {
   "cell_type": "code",
   "execution_count": 2,
   "metadata": {},
   "outputs": [
    {
     "data": {
      "text/plain": [
       "(5000, 147)"
      ]
     },
     "execution_count": 2,
     "metadata": {},
     "output_type": "execute_result"
    }
   ],
   "source": [
    "data = pd.read_csv('SC_Magpie_short_July2018.csv')\n",
    "data.shape"
   ]
  },
  {
   "cell_type": "code",
   "execution_count": 3,
   "metadata": {},
   "outputs": [
    {
     "name": "stdout",
     "output_type": "stream",
     "text": [
      "(5000, 145)\n",
      "(5000,)\n"
     ]
    },
    {
     "data": {
      "text/html": [
       "<div>\n",
       "<style scoped>\n",
       "    .dataframe tbody tr th:only-of-type {\n",
       "        vertical-align: middle;\n",
       "    }\n",
       "\n",
       "    .dataframe tbody tr th {\n",
       "        vertical-align: top;\n",
       "    }\n",
       "\n",
       "    .dataframe thead th {\n",
       "        text-align: right;\n",
       "    }\n",
       "</style>\n",
       "<table border=\"1\" class=\"dataframe\">\n",
       "  <thead>\n",
       "    <tr style=\"text-align: right;\">\n",
       "      <th></th>\n",
       "      <th>NComp</th>\n",
       "      <th>Comp_L2Norm</th>\n",
       "      <th>Comp_L3Norm</th>\n",
       "      <th>Comp_L5Norm</th>\n",
       "      <th>Comp_L7Norm</th>\n",
       "      <th>Comp_L10Norm</th>\n",
       "      <th>mean_Number</th>\n",
       "      <th>maxdiff_Number</th>\n",
       "      <th>dev_Number</th>\n",
       "      <th>max_Number</th>\n",
       "      <th>...</th>\n",
       "      <th>max_SpaceGroupNumber</th>\n",
       "      <th>min_SpaceGroupNumber</th>\n",
       "      <th>most_SpaceGroupNumber</th>\n",
       "      <th>frac_sValence</th>\n",
       "      <th>frac_pValence</th>\n",
       "      <th>frac_dValence</th>\n",
       "      <th>frac_fValence</th>\n",
       "      <th>CanFormIonic</th>\n",
       "      <th>MaxIonicChar</th>\n",
       "      <th>MeanIonicChar</th>\n",
       "    </tr>\n",
       "  </thead>\n",
       "  <tbody>\n",
       "    <tr>\n",
       "      <th>0</th>\n",
       "      <td>4</td>\n",
       "      <td>0.583781</td>\n",
       "      <td>0.506891</td>\n",
       "      <td>0.459606</td>\n",
       "      <td>0.441643</td>\n",
       "      <td>0.428710</td>\n",
       "      <td>30.360000</td>\n",
       "      <td>37</td>\n",
       "      <td>6.214400</td>\n",
       "      <td>56</td>\n",
       "      <td>...</td>\n",
       "      <td>229</td>\n",
       "      <td>166</td>\n",
       "      <td>197.5</td>\n",
       "      <td>0.198312</td>\n",
       "      <td>0.126582</td>\n",
       "      <td>0.675105</td>\n",
       "      <td>0.000000</td>\n",
       "      <td>0</td>\n",
       "      <td>0.370230</td>\n",
       "      <td>0.101293</td>\n",
       "    </tr>\n",
       "    <tr>\n",
       "      <th>1</th>\n",
       "      <td>5</td>\n",
       "      <td>0.606413</td>\n",
       "      <td>0.557901</td>\n",
       "      <td>0.543545</td>\n",
       "      <td>0.542136</td>\n",
       "      <td>0.541937</td>\n",
       "      <td>22.677795</td>\n",
       "      <td>49</td>\n",
       "      <td>16.074864</td>\n",
       "      <td>57</td>\n",
       "      <td>...</td>\n",
       "      <td>229</td>\n",
       "      <td>12</td>\n",
       "      <td>12.0</td>\n",
       "      <td>0.277798</td>\n",
       "      <td>0.340779</td>\n",
       "      <td>0.381423</td>\n",
       "      <td>0.000000</td>\n",
       "      <td>0</td>\n",
       "      <td>0.803211</td>\n",
       "      <td>0.321647</td>\n",
       "    </tr>\n",
       "    <tr>\n",
       "      <th>2</th>\n",
       "      <td>2</td>\n",
       "      <td>0.724017</td>\n",
       "      <td>0.659084</td>\n",
       "      <td>0.622509</td>\n",
       "      <td>0.613736</td>\n",
       "      <td>0.610693</td>\n",
       "      <td>43.220000</td>\n",
       "      <td>2</td>\n",
       "      <td>0.951600</td>\n",
       "      <td>44</td>\n",
       "      <td>...</td>\n",
       "      <td>229</td>\n",
       "      <td>194</td>\n",
       "      <td>194.0</td>\n",
       "      <td>0.138504</td>\n",
       "      <td>0.000000</td>\n",
       "      <td>0.861496</td>\n",
       "      <td>0.000000</td>\n",
       "      <td>0</td>\n",
       "      <td>0.000400</td>\n",
       "      <td>0.000190</td>\n",
       "    </tr>\n",
       "    <tr>\n",
       "      <th>3</th>\n",
       "      <td>3</td>\n",
       "      <td>0.700772</td>\n",
       "      <td>0.663969</td>\n",
       "      <td>0.655637</td>\n",
       "      <td>0.655203</td>\n",
       "      <td>0.655173</td>\n",
       "      <td>58.000000</td>\n",
       "      <td>26</td>\n",
       "      <td>10.482759</td>\n",
       "      <td>76</td>\n",
       "      <td>...</td>\n",
       "      <td>194</td>\n",
       "      <td>141</td>\n",
       "      <td>141.0</td>\n",
       "      <td>0.126638</td>\n",
       "      <td>0.082969</td>\n",
       "      <td>0.493450</td>\n",
       "      <td>0.296943</td>\n",
       "      <td>0</td>\n",
       "      <td>0.201983</td>\n",
       "      <td>0.036805</td>\n",
       "    </tr>\n",
       "    <tr>\n",
       "      <th>4</th>\n",
       "      <td>6</td>\n",
       "      <td>0.512258</td>\n",
       "      <td>0.435720</td>\n",
       "      <td>0.405168</td>\n",
       "      <td>0.400893</td>\n",
       "      <td>0.400075</td>\n",
       "      <td>36.658000</td>\n",
       "      <td>75</td>\n",
       "      <td>27.869600</td>\n",
       "      <td>83</td>\n",
       "      <td>...</td>\n",
       "      <td>225</td>\n",
       "      <td>12</td>\n",
       "      <td>70.0</td>\n",
       "      <td>0.187652</td>\n",
       "      <td>0.286921</td>\n",
       "      <td>0.187652</td>\n",
       "      <td>0.337774</td>\n",
       "      <td>0</td>\n",
       "      <td>0.866866</td>\n",
       "      <td>0.228340</td>\n",
       "    </tr>\n",
       "  </tbody>\n",
       "</table>\n",
       "<p>5 rows × 145 columns</p>\n",
       "</div>"
      ],
      "text/plain": [
       "   NComp  Comp_L2Norm  Comp_L3Norm  Comp_L5Norm  Comp_L7Norm  Comp_L10Norm  \\\n",
       "0      4     0.583781     0.506891     0.459606     0.441643      0.428710   \n",
       "1      5     0.606413     0.557901     0.543545     0.542136      0.541937   \n",
       "2      2     0.724017     0.659084     0.622509     0.613736      0.610693   \n",
       "3      3     0.700772     0.663969     0.655637     0.655203      0.655173   \n",
       "4      6     0.512258     0.435720     0.405168     0.400893      0.400075   \n",
       "\n",
       "   mean_Number  maxdiff_Number  dev_Number  max_Number      ...        \\\n",
       "0    30.360000              37    6.214400          56      ...         \n",
       "1    22.677795              49   16.074864          57      ...         \n",
       "2    43.220000               2    0.951600          44      ...         \n",
       "3    58.000000              26   10.482759          76      ...         \n",
       "4    36.658000              75   27.869600          83      ...         \n",
       "\n",
       "   max_SpaceGroupNumber  min_SpaceGroupNumber  most_SpaceGroupNumber  \\\n",
       "0                   229                   166                  197.5   \n",
       "1                   229                    12                   12.0   \n",
       "2                   229                   194                  194.0   \n",
       "3                   194                   141                  141.0   \n",
       "4                   225                    12                   70.0   \n",
       "\n",
       "   frac_sValence  frac_pValence  frac_dValence  frac_fValence  CanFormIonic  \\\n",
       "0       0.198312       0.126582       0.675105       0.000000             0   \n",
       "1       0.277798       0.340779       0.381423       0.000000             0   \n",
       "2       0.138504       0.000000       0.861496       0.000000             0   \n",
       "3       0.126638       0.082969       0.493450       0.296943             0   \n",
       "4       0.187652       0.286921       0.187652       0.337774             0   \n",
       "\n",
       "   MaxIonicChar  MeanIonicChar  \n",
       "0      0.370230       0.101293  \n",
       "1      0.803211       0.321647  \n",
       "2      0.000400       0.000190  \n",
       "3      0.201983       0.036805  \n",
       "4      0.866866       0.228340  \n",
       "\n",
       "[5 rows x 145 columns]"
      ]
     },
     "execution_count": 3,
     "metadata": {},
     "output_type": "execute_result"
    }
   ],
   "source": [
    "X = data[data.columns[2:148]]\n",
    "y = data[\"Tc\"] #y = result[\"Tc\"]\n",
    "\n",
    "print(X.shape)\n",
    "print(y.shape)\n",
    "X.head()"
   ]
  },
  {
   "cell_type": "markdown",
   "metadata": {},
   "source": [
    "## Create target for classification\n",
    "\n",
    "Split the $T_c$'s into two bins - $T_c$ above/below some $T_{sep}$\n",
    "\n",
    "How to choose $T_{sep}$? Let's use $T_{sep}=0$ for the moment."
   ]
  },
  {
   "cell_type": "code",
   "execution_count": 5,
   "metadata": {},
   "outputs": [
    {
     "name": "stdout",
     "output_type": "stream",
     "text": [
      "0.3776\n"
     ]
    }
   ],
   "source": [
    "\n",
    "from sklearn.cross_validation import train_test_split\n",
    "from sklearn.metrics import precision_recall_fscore_support\n",
    "\n",
    "z = y.apply(lambda x: 1 if x > 10 else 0) \n",
    "X_train, X_test, z_train, z_test = train_test_split(X, z,  test_size=0.20,  random_state=41)\n",
    "print(z.sum()/len(z))\n",
    "\n",
    "#"
   ]
  },
  {
   "cell_type": "markdown",
   "metadata": {},
   "source": [
    "## Test simple model\n",
    "\n",
    "Random forest without any optimization, apart from increasing the number of trees to 100 (default is 10)."
   ]
  },
  {
   "cell_type": "code",
   "execution_count": 6,
   "metadata": {},
   "outputs": [
    {
     "name": "stdout",
     "output_type": "stream",
     "text": [
      "0.88325 , 0.9\n",
      "(array([0.92948718, 0.85106383]), array([0.91194969, 0.87912088]), array([0.92063492, 0.86486486]), array([636, 364]))\n"
     ]
    }
   ],
   "source": [
    "\n",
    "from sklearn.ensemble import RandomForestClassifier\n",
    "\n",
    "rfc = RandomForestClassifier(oob_score = True, n_jobs = -1, n_estimators=100)\n",
    "rfc.fit(X_train, z_train)\n",
    "\n",
    "print(rfc.oob_score_, \",\", rfc.score(X_test, z_test)) \n",
    "print(precision_recall_fscore_support(z_test, rfc.predict(X_test)))#f1_score(z_test, rfc.predict(X_test))"
   ]
  },
  {
   "cell_type": "code",
   "execution_count": 7,
   "metadata": {},
   "outputs": [
    {
     "name": "stdout",
     "output_type": "stream",
     "text": [
      "RandomForestClassifier(bootstrap=True, class_weight=None, criterion='gini',\n",
      "            max_depth=None, max_features='auto', max_leaf_nodes=None,\n",
      "            min_impurity_decrease=0.0, min_impurity_split=None,\n",
      "            min_samples_leaf=1, min_samples_split=2,\n",
      "            min_weight_fraction_leaf=0.0, n_estimators=100, n_jobs=-1,\n",
      "            oob_score=True, random_state=None, verbose=0, warm_start=False)\n"
     ]
    }
   ],
   "source": [
    "print(rfc)"
   ]
  },
  {
   "cell_type": "markdown",
   "metadata": {},
   "source": [
    "## Selecting $T_{sep}$\n",
    "\n",
    "Let's try models with different $T_{sep}$"
   ]
  },
  {
   "cell_type": "code",
   "execution_count": 8,
   "metadata": {},
   "outputs": [
    {
     "name": "stdout",
     "output_type": "stream",
     "text": [
      "Tc = 1 K\n",
      "accuracy: 0.8225 , 0.822\n",
      "(array([0.7601626 , 0.84217507]), array([0.61111111, 0.91498559]), array([0.67753623, 0.87707182]), array([306, 694]))\n",
      "Tc = 5 K\n",
      "accuracy: 0.84775 , 0.859\n",
      "(array([0.8802521 , 0.83969466]), array([0.83300199, 0.88531187]), array([0.85597549, 0.8619001 ]), array([503, 497]))\n",
      "Tc = 10 K\n",
      "accuracy: 0.88725 , 0.891\n",
      "(array([0.91585761, 0.85078534]), array([0.90850722, 0.86206897]), array([0.91216761, 0.85638999]), array([623, 377]))\n",
      "Tc = 15 K\n",
      "accuracy: 0.903 , 0.905\n",
      "(array([0.92477876, 0.86335404]), array([0.93442623, 0.8449848 ]), array([0.92957746, 0.85407066]), array([671, 329]))\n",
      "Tc = 20 K\n",
      "accuracy: 0.908 , 0.919\n",
      "(array([0.94101877, 0.85433071]), array([0.94993234, 0.83141762]), array([0.94545455, 0.84271845]), array([739, 261]))\n",
      "Tc = 25 K\n",
      "accuracy: 0.918 , 0.923\n",
      "(array([0.95532194, 0.82008368]), array([0.94415584, 0.85217391]), array([0.94970607, 0.8358209 ]), array([770, 230]))\n",
      "Tc = 30 K\n",
      "accuracy: 0.92775 , 0.913\n",
      "(array([0.9523212 , 0.75862069]), array([0.93935644, 0.80208333]), array([0.94579439, 0.77974684]), array([808, 192]))\n",
      "Tc = 35 K\n",
      "accuracy: 0.933 , 0.932\n",
      "(array([0.95180723, 0.83529412]), array([0.96577017, 0.78021978]), array([0.95873786, 0.80681818]), array([818, 182]))\n",
      "Tc = 40 K\n",
      "accuracy: 0.948 , 0.936\n",
      "(array([0.96694215, 0.76470588]), array([0.95789474, 0.80689655]), array([0.96239718, 0.7852349 ]), array([855, 145]))\n"
     ]
    }
   ],
   "source": [
    "highTc_prop = []\n",
    "score = []\n",
    "pres_recall = []\n",
    "\n",
    "Tsep = [1, 5, 10, 15, 20, 25, 30, 35, 40]\n",
    "\n",
    "for T in Tsep:\n",
    "    z = y.apply(lambda x: 1 if x > T else 0) \n",
    "    X_train, X_test, z_train, z_test = train_test_split(X, z,  test_size=0.2)\n",
    "    highTc_prop.append(z.sum()/float(len(z)))\n",
    "    rfc = RandomForestClassifier(n_estimators=300, oob_score = True, n_jobs = -1,random_state =20,\n",
    "                           max_features = \"sqrt\", min_samples_split = 2)\n",
    "    rfc.fit(X_train, z_train)\n",
    "    score.append(rfc.oob_score_)\n",
    "    pres_recall.append(precision_recall_fscore_support(z_test, rfc.predict(X_test)))\n",
    "    print(\"Tc = {} K\".format(T)) \n",
    "    print(\"accuracy:\", rfc.oob_score_, \",\",rfc.score(X_test, z_test)) \n",
    "    print(precision_recall_fscore_support(z_test, rfc.predict(X_test))) #f1_score(z_test, rfc.predict(X_test))\n"
   ]
  },
  {
   "cell_type": "code",
   "execution_count": 9,
   "metadata": {},
   "outputs": [
    {
     "data": {
      "image/png": "[encoded data removed]",
      "text/plain": [
       "<Figure size 864x1008 with 1 Axes>"
      ]
     },
     "metadata": {},
     "output_type": "display_data"
    },
    {
     "data": {
      "image/png": "[encoded data removed]",
      "text/plain": [
       "<Figure size 864x1008 with 1 Axes>"
      ]
     },
     "metadata": {},
     "output_type": "display_data"
    }
   ],
   "source": [
    "pres =[]\n",
    "recall =[]\n",
    "f1 =[]\n",
    "\n",
    "for n in range(len(Tsep)):\n",
    "    pres.append(pres_recall[n][0][1])\n",
    "    recall.append(pres_recall[n][1][1])\n",
    "    f1.append(pres_recall[n][2][1])\n",
    "    \n",
    "plt.rcParams['figure.figsize'] = (12.0, 14.0)\n",
    "\n",
    "Tcutt = [1, 5, 10, 15, 20, 25, 30, 35, 40]\n",
    "# line_prop, = plt.plot(Tsep, highTc_prop, 'sr--', ms = 8, alpha = 0.7, label='Proportion', linewidth = 2)\n",
    "\n",
    "plt.subplot(211)\n",
    "plt.plot(Tcutt, highTc_prop, 'sr-', ms = 7, alpha = 0.7, label='Proportion', linewidth = 3)\n",
    "plt.xlim(0, 42)\n",
    "plt.ylabel('Proportion', fontsize=14)\n",
    "plt.xlabel(r'$T^{sep}$ (K)', fontsize=14) \n",
    "plt.show()\n",
    "\n",
    "plt.subplot(212)\n",
    "line_pres, = plt.plot(Tsep, pres, 'D-', ms = 10, alpha = 0.9, label='Precision', linewidth = 3)\n",
    "line_recall, = plt.plot(Tsep, recall, '^-', ms = 10, alpha = 0.9, label='Recall', linewidth = 3)\n",
    "line_f1, = plt.plot(Tsep, f1, 's-', ms = 10, alpha = 0.9, label='f1', linewidth = 3)\n",
    "line_accur, = plt.plot(Tsep, score, 'o-', ms = 10, alpha = 0.9, label='Accuracy', linewidth = 3)\n",
    "plt.legend(handles=[ line_accur, line_pres, line_recall, line_f1], loc= (0.01, 0.0), fontsize=14)\n",
    "#plt.plot(Tcutt, [0.86067131, 0.85939258, 0.8448,  0.84909457, 0.86597938 ], 'g-o', ms = 5, alpha = 0.7)\n",
    "#plt.plot([1, 10, 20, 30, 40], [0.9556962 , 0.93512852, 0.89643463, 0.88469602,  0.896], 'y-o', ms = 5, alpha = 0.7)\n",
    "plt.xlim(0, 42)\n",
    "plt.ylim(0.75, 1.0)\n",
    "plt.ylabel('Score', fontsize=18)\n",
    "plt.xlabel(r'$T^{sep}$ (K)', fontsize=18)    \n",
    "plt.show()\n"
   ]
  },
  {
   "cell_type": "markdown",
   "metadata": {},
   "source": [
    "## Optimize the model\n",
    "\n",
    "Use GridSearch to find better hyper-parameters"
   ]
  },
  {
   "cell_type": "code",
   "execution_count": 12,
   "metadata": {},
   "outputs": [
    {
     "name": "stdout",
     "output_type": "stream",
     "text": [
      "{'max_depth': 20, 'max_features': 10, 'min_samples_split': 2, 'n_estimators': 100}\n",
      "0.94825\n"
     ]
    }
   ],
   "source": [
    "#from sklearn.grid_search import GridSearchCV\n",
    "from sklearn.datasets import load_digits\n",
    "from sklearn.model_selection import GridSearchCV\n",
    "#from sklearn.ensemble import RandomForestRegressor\n",
    "#digits = load_boston()\n",
    "#X, y = dataset.data, dataset.target\n",
    "\n",
    "z = y.apply(lambda x: 1 if x > 10 else 0)\n",
    "\n",
    "model = RandomForestClassifier(random_state=30)\n",
    "param_grid = {\"n_estimators\"      : [100],\n",
    "           #\"criterion\"         : [\"gini\", \"entropy\"],\n",
    "           \"max_features\"      : [8,10, \"sqrt\", 14 ], #,\n",
    "              'max_depth': [15, 20, 25],\n",
    "            'min_samples_split':range(2, 11, 2)\n",
    "         # \"bootstrap\": [True, False]\n",
    "             }\n",
    "grid_search = GridSearchCV(model, param_grid, n_jobs=-1, cv=5)\n",
    "grid_search.fit(X_train, z_train)\n",
    "\n",
    "print(grid_search.best_params_)\n",
    "print(grid_search.best_score_)"
   ]
  },
  {
   "cell_type": "code",
   "execution_count": 13,
   "metadata": {},
   "outputs": [
    {
     "name": "stdout",
     "output_type": "stream",
     "text": [
      "0.9495 0.931 (array([0.9634434, 0.75     ]), array([0.95555556, 0.7862069 ]), array([0.95948326, 0.76767677]), array([855, 145]))\n"
     ]
    }
   ],
   "source": [
    "rfc = RandomForestClassifier(oob_score = True, n_jobs = -1, n_estimators=500, \n",
    "                             min_samples_split = 2, max_features = 10 , max_depth = 20)\n",
    "rfc.fit(X_train, z_train)\n",
    "\n",
    "print(rfc.oob_score_, rfc.score(X_test, z_test), \n",
    "      precision_recall_fscore_support(z_test, rfc.predict(X_test)))#f1_score(z_test, rfc.predict(X_test))"
   ]
  },
  {
   "cell_type": "code",
   "execution_count": 14,
   "metadata": {},
   "outputs": [
    {
     "data": {
      "text/plain": [
       "0.9719459568461383"
      ]
     },
     "execution_count": 14,
     "metadata": {},
     "output_type": "execute_result"
    }
   ],
   "source": [
    "from sklearn.metrics import roc_auc_score\n",
    "X_test_prob_pred = rfc.predict_proba(X_test)\n",
    "roc_auc_score(z_test, X_test_prob_pred[:,1])"
   ]
  },
  {
   "cell_type": "markdown",
   "metadata": {},
   "source": [
    "## Size of the data set\n",
    "\n",
    "Check how model performance changes with the size of the train set"
   ]
  },
  {
   "cell_type": "code",
   "execution_count": 15,
   "metadata": {},
   "outputs": [
    {
     "name": "stdout",
     "output_type": "stream",
     "text": [
      "100 0.77\n",
      "300 0.7933333333333333\n",
      "500 0.814\n",
      "700 0.8157142857142857\n",
      "900 0.8233333333333334\n",
      "1100 0.8436363636363636\n",
      "1300 0.8430769230769231\n",
      "1500 0.8393333333333334\n",
      "1700 0.85\n",
      "1900 0.8557894736842105\n",
      "2100 0.8552380952380952\n",
      "2300 0.86\n",
      "2500 0.8636\n",
      "2700 0.8733333333333333\n",
      "2900 0.8703448275862069\n",
      "3100 0.8732258064516129\n",
      "3300 0.8757575757575757\n",
      "3500 0.8782857142857143\n",
      "3700 0.8816216216216216\n",
      "3900 0.8812820512820513\n"
     ]
    }
   ],
   "source": [
    "from sklearn.metrics import f1_score\n",
    "\n",
    "rfc = RandomForestClassifier(n_estimators=100, oob_score = True, n_jobs = -1,random_state =20,\n",
    "                           max_features = \"sqrt\", min_samples_split = 2)\n",
    "\n",
    "score_size_train = []\n",
    "f1_size_train = []\n",
    "score_size = []\n",
    "pres_recall_size = []\n",
    "accur_size = []\n",
    "X = data[data.columns[2:147]]\n",
    "y = data[\"Tc\"]\n",
    "z = y.apply(lambda x: 1 if x > 10 else 0) #y = result[\"Tc\"]\n",
    "X_train, X_test, z_train, z_test = train_test_split(X, z,  test_size=0.2,  random_state=20)\n",
    "\n",
    "z_train[:10]\n",
    "sizes = range(100, 4000, 200)\n",
    "X_train.iloc[:10, :].shape, z_train[:10].shape\n",
    "\n",
    "for size in sizes:#[50, 100, 150, 200, 250, 300, 350, 400, 450, 500, 550, 600, 650, 700, 750, 800, 850, 900, 950, 1000, 1050, 1100, 1150, 1200, 1250, 1300, 1350, 1400, 1450, 1500]:\n",
    "    data = data.reindex(np.random.permutation(data.index))\n",
    "#     X_train, X_test, z_train, z_test = train_test_split(X.ix[:size, :], z,  test_size=0.15,  random_state=20)\n",
    "#     highTc_prop.append(z.sum()/float(len(z)))\n",
    "#     rfc = RandomForestClassifier(n_estimators=500, oob_score = True, n_jobs = -1,random_state =222)\n",
    "    rfc = RandomForestClassifier(n_estimators=200, oob_score = True, n_jobs = -1,random_state =21,\n",
    "                           max_features = \"sqrt\", min_samples_split = 3, max_depth = 16)\n",
    "    rfc.fit(X_train.iloc[:size, :], z_train[:size])\n",
    "    score_size.append(rfc.oob_score_)\n",
    "    accur_size.append(rfc.score(X_test, z_test))\n",
    "#     rfc_f1_size_train.append(f1_score(z_train, rfc.predict(X_train)))\n",
    "    pres_recall_size.append(precision_recall_fscore_support(z_test, rfc.predict(X_test)))\n",
    "    print(size, rfc.oob_score_)"
   ]
  },
  {
   "cell_type": "code",
   "execution_count": 16,
   "metadata": {},
   "outputs": [
    {
     "data": {
      "image/png": "[encoded data removed]",
      "text/plain": [
       "<Figure size 720x576 with 1 Axes>"
      ]
     },
     "metadata": {},
     "output_type": "display_data"
    }
   ],
   "source": [
    "%matplotlib inline\n",
    "f1_size =[]\n",
    "pres_size =[]\n",
    "recall_size =[]\n",
    "for n in range(len(sizes)):\n",
    "    f1_size.append(pres_recall_size[n][2][1])\n",
    "    pres_size.append(pres_recall_size[n][0][1])\n",
    "    recall_size.append(pres_recall_size[n][1][1])\n",
    "    \n",
    "# rfc_f1_size, rfc_pres_size, rfc_recall\n",
    "plt.rcParams['figure.figsize'] = (10.0, 8.0)\n",
    "ms=10\n",
    "# line_accur, = plt.plot(sizes, rfc_score_size, 'b-o', ms = 7, alpha = 0.7, label='Accuracy')\n",
    "\n",
    "\n",
    "line_pres, = plt.plot(sizes, pres_size, 'D-', ms = ms, alpha = 0.9, label='precision', linewidth = 3)\n",
    "line_recall, = plt.plot(sizes, recall_size, '^-', ms = ms, alpha = 0.9, label='recall', linewidth = 3)\n",
    "line_f1, = plt.plot(sizes, f1_size, 's-', ms = ms, alpha = 0.9, label=r'$F_{\\mathrm{1}}$', linewidth = 3)\n",
    "line_accur, = plt.plot(sizes, accur_size, 'o-', ms = ms, alpha = 0.9, label='accuracy', linewidth = 3)\n",
    "plt.legend(handles=[ line_accur, line_pres, line_recall, line_f1], loc= 'lower right', fontsize=15)\n",
    "plt.xlim(-0, 4000)\n",
    "plt.ylim(0.65, 0.93)\n",
    "plt.yticks(fontsize = 14)\n",
    "\n",
    "\n",
    "plt.legend(handles=[ line_accur, line_pres, line_recall, line_f1], loc= 'lower right', fontsize=14)\n",
    "plt.ylabel('score', fontsize=14)\n",
    "plt.xlabel('size of training dataset', fontsize=14)\n",
    "\n",
    "plt.show()"
   ]
  },
  {
   "cell_type": "markdown",
   "metadata": {},
   "source": [
    "## Feature importances\n",
    "\n",
    "Random forest provides feature importance measure (misleading if there are correlated features!).\n",
    "\n"
   ]
  },
  {
   "cell_type": "code",
   "execution_count": 17,
   "metadata": {},
   "outputs": [
    {
     "name": "stdout",
     "output_type": "stream",
     "text": [
      "[7.21919898e-03 1.41883828e-02 1.18877785e-02 1.08683870e-02\n",
      " 9.98642660e-03 9.35850273e-03 1.15900860e-02 4.02405865e-03\n",
      " 1.13066906e-02 4.39653256e-03 2.30631680e-03 3.44362330e-03\n",
      " 1.15031295e-02 2.94120635e-02 1.92513382e-02 4.02625734e-03\n",
      " 6.75001795e-03 2.87042704e-03 1.18376887e-02 4.21969578e-03\n",
      " 1.10016552e-02 3.72711715e-03 2.30470870e-03 6.34591482e-03\n",
      " 1.36783829e-02 9.91060292e-03 1.59336912e-02 3.00431167e-03\n",
      " 1.49295630e-02 7.82417139e-03 1.21093663e-02 2.20692993e-02\n",
      " 2.13810781e-02 9.25370472e-04 1.24118514e-03 2.55305829e-03\n",
      " 8.96495561e-03 1.40550133e-03 8.15048263e-03 1.44926885e-03\n",
      " 7.30598214e-04 2.19326296e-03 1.11962909e-02 1.31379537e-02\n",
      " 1.55232831e-02 3.01826683e-03 1.38159258e-02 5.37596168e-03\n",
      " 1.19860080e-02 1.71687958e-02 2.82226452e-02 8.28946990e-03\n",
      " 7.95610724e-03 6.47860051e-03 6.98319875e-03 5.00828854e-04\n",
      " 7.74062466e-03 3.22636274e-05 5.61472496e-04 8.52913948e-04\n",
      " 6.57349972e-03 1.34717746e-03 1.37785002e-02 2.99139538e-03\n",
      " 8.33410111e-06 7.23000326e-04 1.03806406e-02 1.38189327e-02\n",
      " 1.07776070e-02 2.21545275e-03 3.05070039e-04 2.77342704e-03\n",
      " 4.60994054e-03 1.13339401e-03 4.09706389e-03 1.09377387e-03\n",
      " 0.00000000e+00 1.17385247e-04 1.00120547e-02 3.10845141e-03\n",
      " 1.07303462e-02 2.86192064e-03 2.00099719e-03 3.41764252e-03\n",
      " 1.05164370e-02 5.35545524e-04 7.90154394e-03 4.64778464e-04\n",
      " 1.73426793e-05 8.18916302e-04 7.98095238e-03 2.15367048e-03\n",
      " 8.56898398e-03 1.75953568e-03 1.37225316e-05 7.36783466e-04\n",
      " 1.06936919e-02 2.41093068e-03 1.23792555e-02 1.87832021e-03\n",
      " 1.40685181e-04 1.90457480e-03 5.55413079e-03 1.64931360e-03\n",
      " 4.89860347e-03 1.66374307e-03 0.00000000e+00 6.73154702e-05\n",
      " 1.60717103e-02 3.05995915e-03 1.55670854e-02 2.67036231e-03\n",
      " 2.37843157e-03 1.36915488e-03 1.08503032e-02 1.67032736e-02\n",
      " 2.20307390e-02 7.70949142e-03 6.29433932e-03 3.76005255e-03\n",
      " 4.71127770e-03 1.32945338e-03 4.45849062e-03 1.62985028e-03\n",
      " 3.08286396e-05 1.42649032e-03 8.83766350e-03 4.88228821e-03\n",
      " 9.11394354e-03 3.54567084e-03 0.00000000e+00 1.02847670e-03\n",
      " 9.54503269e-03 8.92100469e-03 1.21840312e-02 5.90929642e-03\n",
      " 1.85066152e-03 8.79885517e-03 1.08470508e-02 1.00932674e-02\n",
      " 1.31048006e-02 5.06119491e-03 1.88743723e-03 1.52933422e-02\n",
      " 3.23391441e-02]\n",
      "(145,)\n",
      "MeanIonicChar\n",
      "maxdiff_MendeleevNumber\n",
      "dev_Electronegativity\n",
      "maxdiff_Column\n",
      "dev_GSvolume_pa\n",
      "dev_Column\n",
      "dev_MendeleevNumber\n",
      "maxdiff_Electronegativity\n",
      "maxdiff_GSvolume_pa\n",
      "mean_NUnfilled\n",
      "dev_MeltingT\n",
      "dev_NUnfilled\n",
      "dev_CovalentRadius\n",
      "MaxIonicChar\n",
      "min_MeltingT\n",
      "Comp_L2Norm\n",
      "maxdiff_NdValence\n",
      "min_CovalentRadius\n",
      "dev_NpValence\n",
      "mean_MeltingT\n",
      "maxdiff_CovalentRadius\n",
      "frac_dValence\n",
      "dev_NdUnfilled\n",
      "dev_SpaceGroupNumber\n",
      "mean_Column\n",
      "mean_Electronegativity\n",
      "Comp_L3Norm\n",
      "mean_AtomicWeight\n",
      "mean_Number\n",
      "mean_MendeleevNumber\n",
      "dev_Number\n",
      "mean_CovalentRadius\n",
      "dev_AtomicWeight\n",
      "Comp_L5Norm\n",
      "mean_GSvolume_pa\n",
      "frac_sValence\n",
      "dev_NdValence\n",
      "dev_NValance\n",
      "mean_NdUnfilled\n",
      "mean_NsUnfilled\n",
      "mean_NdValence\n",
      "frac_pValence\n",
      "mean_NValance\n",
      "Comp_L7Norm\n",
      "maxdiff_MeltingT\n",
      "mean_SpaceGroupNumber\n",
      "Comp_L10Norm\n",
      "dev_GSmagmom\n",
      "mean_Row\n",
      "maxdiff_SpaceGroupNumber\n",
      "mean_GSmagmom\n",
      "most_SpaceGroupNumber\n",
      "dev_NpUnfilled\n",
      "max_Electronegativity\n",
      "dev_Row\n",
      "mean_NpUnfilled\n",
      "min_Electronegativity\n",
      "dev_NsUnfilled\n",
      "most_MeltingT\n",
      "dev_NsValence\n",
      "max_GSvolume_pa\n",
      "NComp\n",
      "mean_NsValence\n",
      "min_MendeleevNumber\n",
      "mean_NpValence\n",
      "most_Electronegativity\n",
      "most_AtomicWeight\n",
      "min_GSvolume_pa\n",
      "max_SpaceGroupNumber\n",
      "mean_NfUnfilled\n",
      "most_CovalentRadius\n",
      "frac_fValence\n",
      "dev_NfUnfilled\n",
      "maxdiff_GSmagmom\n",
      "mean_GSbandgap\n",
      "mean_NfValence\n",
      "dev_GSbandgap\n",
      "max_Number\n",
      "maxdiff_AtomicWeight\n",
      "dev_NfValence\n",
      "max_MendeleevNumber\n",
      "maxdiff_Number\n",
      "most_GSvolume_pa\n",
      "max_AtomicWeight\n",
      "max_GSmagmom\n",
      "most_Number\n",
      "most_NValance\n",
      "maxdiff_NValance\n",
      "maxdiff_NUnfilled\n",
      "max_CovalentRadius\n",
      "max_MeltingT\n",
      "max_NpValence\n",
      "most_MendeleevNumber\n",
      "max_NValance\n",
      "most_NdValence\n",
      "max_NUnfilled\n",
      "most_Column\n",
      "maxdiff_NdUnfilled\n",
      "min_NUnfilled\n",
      "min_Number\n",
      "min_AtomicWeight\n",
      "max_NdValence\n",
      "most_Row\n",
      "maxdiff_NpUnfilled\n",
      "min_NValance\n",
      "most_NdUnfilled\n",
      "CanFormIonic\n",
      "max_NdUnfilled\n",
      "min_SpaceGroupNumber\n",
      "max_NpUnfilled\n",
      "max_NfUnfilled\n",
      "maxdiff_NfUnfilled\n",
      "max_GSbandgap\n",
      "max_Row\n",
      "most_GSbandgap\n",
      "maxdiff_Row\n",
      "most_NUnfilled\n",
      "maxdiff_NpValence\n",
      "maxdiff_GSbandgap\n",
      "min_Column\n",
      "maxdiff_NfValence\n",
      "max_NfValence\n",
      "most_GSmagmom\n",
      "max_Column\n",
      "most_NsValence\n",
      "most_NsUnfilled\n",
      "most_NpUnfilled\n",
      "min_Row\n",
      "most_NpValence\n",
      "min_NsValence\n",
      "maxdiff_NsUnfilled\n",
      "maxdiff_NsValence\n",
      "max_NsUnfilled\n",
      "min_NdValence\n",
      "min_NdUnfilled\n",
      "most_NfValence\n",
      "most_NfUnfilled\n",
      "max_NsValence\n",
      "min_GSbandgap\n",
      "min_NsUnfilled\n",
      "min_NpUnfilled\n",
      "min_NpValence\n",
      "min_GSmagmom\n",
      "min_NfValence\n",
      "min_NfUnfilled\n"
     ]
    }
   ],
   "source": [
    "print(rfc.feature_importances_)\n",
    "importances = rfc.feature_importances_\n",
    "print(importances.shape)\n",
    "\n",
    "indexes = np.argsort(importances)[::-1]\n",
    "for pred in indexes:\n",
    "    print(X.columns[pred])"
   ]
  },
  {
   "cell_type": "code",
   "execution_count": 18,
   "metadata": {},
   "outputs": [
    {
     "data": {
      "text/plain": [
       "[]"
      ]
     },
     "execution_count": 18,
     "metadata": {},
     "output_type": "execute_result"
    },
    {
     "data": {
      "image/png": "[encoded data removed]",
      "text/plain": [
       "<Figure size 720x576 with 1 Axes>"
      ]
     },
     "metadata": {},
     "output_type": "display_data"
    }
   ],
   "source": [
    "plt.rcParams['figure.figsize'] = (10.0, 8.0)\n",
    "plt.bar(range(X.shape[1]),importances[indexes] ,\n",
    "       color=\"r\")\n",
    "plt.plot()"
   ]
  },
  {
   "cell_type": "markdown",
   "metadata": {},
   "source": [
    "## Remove strongly correlated predictors"
   ]
  },
  {
   "cell_type": "code",
   "execution_count": 19,
   "metadata": {},
   "outputs": [
    {
     "name": "stdout",
     "output_type": "stream",
     "text": [
      "(145,)\n",
      "94\n"
     ]
    }
   ],
   "source": [
    "preds = X.columns[::-1]\n",
    "\n",
    "print(preds.shape)\n",
    "\n",
    "for pred in preds:\n",
    "    t = X.corr()[pred][abs(X.corr()[pred])>0.90].index\n",
    "    if t.size==0:\n",
    "        preds = [p for p in preds if p!=pred]   \n",
    "    else:\n",
    "        preds = [p for p in preds if p not in t]   \n",
    "        preds.append(pred)\n",
    "\n",
    "print(len(preds))\n",
    "#preds[::-1] "
   ]
  },
  {
   "cell_type": "code",
   "execution_count": 20,
   "metadata": {},
   "outputs": [
    {
     "data": {
      "image/png": "[encoded data removed]",
      "text/plain": [
       "<Figure size 576x576 with 2 Axes>"
      ]
     },
     "metadata": {},
     "output_type": "display_data"
    }
   ],
   "source": [
    "feature_corr = data[preds].corr().abs()\n",
    "from matplotlib import cm as cm\n",
    "cmap = cm.get_cmap(\"Blues\")\n",
    "plt.rcParams['figure.figsize'] = (8.0, 8.0)\n",
    "plt.matshow(feature_corr, cmap=cmap)\n",
    "plt.colorbar()\n",
    "plt.show()"
   ]
  },
  {
   "cell_type": "code",
   "execution_count": 21,
   "metadata": {},
   "outputs": [
    {
     "name": "stdout",
     "output_type": "stream",
     "text": [
      "0.88325 0.907 (array([0.93300654, 0.86597938]), array([0.91653291, 0.89124668]), array([0.92469636, 0.87843137]), array([623, 377]))\n"
     ]
    }
   ],
   "source": [
    "rfc_reduced = RandomForestClassifier(oob_score = True, n_jobs = -1, n_estimators=500, min_samples_split = 2 )\n",
    "rfc_reduced.fit(X_train[preds], z_train)\n",
    "\n",
    "print(rfc_reduced.oob_score_, rfc_reduced.score(X_test[preds], z_test), \n",
    "      precision_recall_fscore_support(z_test, rfc_reduced.predict(X_test[preds])))#f1_score(z_test, rfc.predict(X_test))"
   ]
  },
  {
   "cell_type": "code",
   "execution_count": 22,
   "metadata": {},
   "outputs": [
    {
     "name": "stdout",
     "output_type": "stream",
     "text": [
      "(94,)\n",
      "maxdiff_MendeleevNumber\n",
      "maxdiff_GSvolume_pa\n",
      "mean_Electronegativity\n",
      "Comp_L2Norm\n",
      "mean_Number\n",
      "mean_NUnfilled\n",
      "mean_CovalentRadius\n",
      "min_MeltingT\n",
      "NComp\n",
      "dev_MeltingT\n",
      "maxdiff_NdValence\n",
      "dev_NUnfilled\n",
      "mean_MeltingT\n",
      "mean_MendeleevNumber\n",
      "frac_pValence\n",
      "maxdiff_CovalentRadius\n",
      "frac_sValence\n",
      "mean_GSvolume_pa\n",
      "mean_Column\n",
      "maxdiff_MeltingT\n",
      "dev_NdValence\n",
      "dev_NdUnfilled\n",
      "dev_Number\n",
      "maxdiff_SpaceGroupNumber\n",
      "mean_NValance\n",
      "frac_dValence\n",
      "mean_SpaceGroupNumber\n",
      "dev_NValance\n",
      "mean_NdValence\n",
      "dev_NpUnfilled\n",
      "mean_NpUnfilled\n",
      "mean_NdUnfilled\n",
      "mean_NsUnfilled\n",
      "mean_NpValence\n",
      "most_Number\n",
      "dev_NsUnfilled\n",
      "dev_NsValence\n",
      "mean_NsValence\n",
      "maxdiff_NpValence\n",
      "min_GSvolume_pa\n",
      "min_NValance\n",
      "mean_GSmagmom\n",
      "max_MendeleevNumber\n",
      "max_SpaceGroupNumber\n",
      "min_Column\n",
      "most_GSvolume_pa\n",
      "maxdiff_Number\n",
      "max_Number\n",
      "dev_GSbandgap\n",
      "mean_GSbandgap\n",
      "mean_NfValence\n",
      "most_MendeleevNumber\n",
      "dev_NfValence\n",
      "dev_NfUnfilled\n",
      "mean_NfUnfilled\n",
      "max_CovalentRadius\n",
      "max_MeltingT\n",
      "min_Number\n",
      "maxdiff_GSmagmom\n",
      "maxdiff_NValance\n",
      "maxdiff_NUnfilled\n",
      "max_NdValence\n",
      "max_NValance\n",
      "min_NUnfilled\n",
      "most_NValance\n",
      "maxdiff_Row\n",
      "maxdiff_NdUnfilled\n",
      "most_NUnfilled\n",
      "maxdiff_GSbandgap\n",
      "most_NdUnfilled\n",
      "maxdiff_NpUnfilled\n",
      "maxdiff_NfUnfilled\n",
      "most_GSbandgap\n",
      "max_Row\n",
      "maxdiff_NfValence\n",
      "CanFormIonic\n",
      "most_NpUnfilled\n",
      "most_NsUnfilled\n",
      "most_GSmagmom\n",
      "most_NsValence\n",
      "maxdiff_NsUnfilled\n",
      "maxdiff_NsValence\n",
      "min_NdValence\n",
      "most_NfValence\n",
      "min_NdUnfilled\n",
      "most_NfUnfilled\n",
      "min_NsUnfilled\n",
      "max_NsValence\n",
      "min_GSbandgap\n",
      "min_NpUnfilled\n",
      "min_NpValence\n",
      "min_NfValence\n",
      "min_GSmagmom\n",
      "min_NfUnfilled\n"
     ]
    }
   ],
   "source": [
    "\n",
    "importances_reduced = rfc_reduced.feature_importances_\n",
    "print(importances_reduced.shape)\n",
    "\n",
    "indexes_reduced = np.argsort(importances_reduced)[::-1]\n",
    "for pred in indexes_reduced:\n",
    "    print(X[preds].columns[pred])\n",
    "\n"
   ]
  },
  {
   "cell_type": "code",
   "execution_count": 23,
   "metadata": {},
   "outputs": [
    {
     "data": {
      "text/plain": [
       "[]"
      ]
     },
     "execution_count": 23,
     "metadata": {},
     "output_type": "execute_result"
    },
    {
     "data": {
      "image/png": "[encoded data removed]",
      "text/plain": [
       "<Figure size 576x576 with 1 Axes>"
      ]
     },
     "metadata": {},
     "output_type": "display_data"
    }
   ],
   "source": [
    "plt.bar(range(X[preds].shape[1]),importances_reduced[indexes_reduced] ,\n",
    "       color=\"r\")\n",
    "plt.plot()"
   ]
  },
  {
   "cell_type": "markdown",
   "metadata": {},
   "source": [
    "## Select the most important predictors*"
   ]
  },
  {
   "cell_type": "code",
   "execution_count": 35,
   "metadata": {},
   "outputs": [
    {
     "name": "stdout",
     "output_type": "stream",
     "text": [
      "0.8962\n",
      "1 0.8962\n",
      "2 0.8942\n",
      "3 0.8964\n",
      "4 0.8958\n",
      "5 0.899\n",
      "6 0.8968\n",
      "7 0.8986\n",
      "8 0.8964\n",
      "9 0.8944\n",
      "10 0.897\n",
      "11 0.8954\n",
      "12 0.8962\n",
      "13 0.8966\n",
      "14 0.895\n",
      "15 0.8952\n",
      "16 0.8954\n",
      "17 0.897\n",
      "18 0.8966\n",
      "19 0.897\n",
      "20 0.8964\n",
      "21 0.896\n",
      "22 0.8952\n",
      "23 0.8974\n",
      "24 0.8942\n",
      "25 0.8984\n",
      "26 0.8968\n",
      "27 0.8946\n",
      "28 0.8938\n",
      "29 0.897\n",
      "30 0.897\n",
      "31 0.894\n",
      "32 0.8968\n",
      "33 0.8954\n",
      "34 0.8958\n",
      "35 0.8982\n",
      "36 0.896\n",
      "37 0.8972\n",
      "38 0.8938\n",
      "39 0.8982\n",
      "40 0.8966\n",
      "41 0.9004\n",
      "42 0.8952\n",
      "43 0.8948\n",
      "44 0.8962\n",
      "45 0.8962\n",
      "46 0.8968\n",
      "47 0.8952\n",
      "48 0.8976\n",
      "49 0.8962\n",
      "50 0.895\n",
      "51 0.8966\n",
      "52 0.8972\n",
      "53 0.8968\n",
      "54 0.8976\n",
      "55 0.8978\n",
      "56 0.8966\n",
      "57 0.897\n",
      "58 0.8964\n",
      "59 0.8968\n",
      "60 0.8966\n",
      "61 0.8972\n",
      "62 0.8944\n",
      "63 0.898\n",
      "64 0.8968\n",
      "65 0.8958\n",
      "66 0.8958\n",
      "67 0.8982\n",
      "68 0.8948\n",
      "69 0.8958\n",
      "70 0.8958\n",
      "71 0.8964\n",
      "72 0.8962\n",
      "73 0.8976\n",
      "74 0.8966\n",
      "75 0.8954\n",
      "76 0.8984\n",
      "77 0.8966\n",
      "78 0.897\n",
      "79 0.8984\n",
      "80 0.8972\n",
      "81 0.8986\n",
      "82 0.8978\n",
      "83 0.8972\n",
      "84 0.8972\n",
      "85 0.8974\n",
      "86 0.895\n",
      "87 0.8978\n",
      "88 0.8986\n",
      "89 0.8976\n",
      "90 0.8962\n",
      "91 0.8964\n",
      "92 0.8986\n",
      "93 0.897\n",
      "94 0.8968\n",
      "95 0.896\n",
      "96 0.897\n",
      "97 0.8962\n",
      "98 0.8962\n",
      "99 0.8972\n",
      "100 0.8972\n",
      "101 0.8958\n",
      "102 0.8988\n",
      "103 0.898\n",
      "104 0.897\n",
      "105 0.895\n",
      "106 0.8964\n",
      "107 0.8972\n",
      "108 0.8972\n",
      "109 0.8978\n",
      "110 0.8962\n",
      "111 0.897\n",
      "112 0.8934\n",
      "113 0.8948\n",
      "114 0.8932\n",
      "115 0.894\n",
      "116 0.894\n",
      "117 0.8938\n",
      "118 0.8946\n",
      "119 0.8928\n",
      "120 0.893\n",
      "121 0.8908\n",
      "122 0.8928\n",
      "123 0.8932\n",
      "124 0.8924\n",
      "125 0.8902\n",
      "126 0.8888\n",
      "127 0.8908\n",
      "128 0.8906\n",
      "129 0.8888\n",
      "130 0.8868\n",
      "131 0.8874\n",
      "132 0.8868\n",
      "133 0.8884\n",
      "134 0.8866\n",
      "135 0.887\n",
      "136 0.8866\n",
      "137 0.8838\n",
      "138 0.877\n",
      "Break, number of predictors: 7\n",
      "0.877\n",
      "[0.15225214 0.13697014 0.10307556 0.13165013 0.12077532 0.12975916\n",
      " 0.12053485 0.1049827 ]\n"
     ]
    }
   ],
   "source": [
    "z = y.apply(lambda x: 1 if x > 10 else 0)\n",
    "rfc = RandomForestClassifier(n_estimators=500, oob_score = True, n_jobs = -1,random_state =222)\n",
    "\n",
    "rfc_score_num_features = []\n",
    "num_features = range(1, 145, 1) #range(1, 136, 1)#range(2, 102, 5) #range(83, 102, 1) #range(83, 108, 1)\n",
    "indx_temp = X.columns# preds#\n",
    "\n",
    "\n",
    "rfc.fit(X[indx_temp], z)\n",
    "accur_init = rfc.oob_score_\n",
    "print(accur_init)\n",
    "\n",
    "for nf in  num_features:   \n",
    "    rfc.fit(X[indx_temp], z)\n",
    "    print(nf, rfc.oob_score_)\n",
    "    if rfc.oob_score_ < accur_init*0.98:\n",
    "            print(\"Break, number of predictors: {}\".format(145-nf))\n",
    "            print(rfc.oob_score_)\n",
    "            break\n",
    "    rfc_score_num_features.append(rfc.oob_score_)\n",
    "    importances = rfc.feature_importances_\n",
    "    indices = np.argsort(importances)[::-1]\n",
    "    indx_temp = X[indx_temp].columns[indices][:145-nf]\n",
    "    ind_imp = rfc.feature_importances_\n",
    "    \n",
    "rfc_score_num_features\n",
    "rfc.fit(X[indx_temp], z)\n",
    "ind_imp = rfc.feature_importances_\n",
    "print(ind_imp)"
   ]
  }
 ],
 "metadata": {
  "kernelspec": {
   "display_name": "Python 3",
   "language": "python",
   "name": "python3"
  },
  "language_info": {
   "codemirror_mode": {
    "name": "ipython",
    "version": 3
   },
   "file_extension": ".py",
   "mimetype": "text/x-python",
   "name": "python",
   "nbconvert_exporter": "python",
   "pygments_lexer": "ipython3",
   "version": "3.6.5"
  }
 },
 "nbformat": 4,
 "nbformat_minor": 2
}
