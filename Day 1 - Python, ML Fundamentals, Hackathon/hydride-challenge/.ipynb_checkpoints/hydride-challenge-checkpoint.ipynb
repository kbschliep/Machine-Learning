{
 "cells": [
  {
   "cell_type": "markdown",
   "metadata": {},
   "source": [
    "# MLMR2018 materials data science challenge\n",
    "### Hydrogen storage alloy performance modeling\n",
    "Organized by Brian DeCost, Jason Hattrick-Simpers, and A. Gilad Kusne (NIST)\n",
    "\n",
    "To exercise the concepts covered in the MLMR workshop, we will be reproducing and extending the modeling work in this paper:\n",
    "\n",
    "Hattrick-Simpers, Jason R., Kamal Choudhary, and Claudio Corgnale. *A simple constrained machine learning model for predicting high-pressure-hydrogen-compressor materials.* Molecular Systems Design & Engineering (**2018**) https://dx.doi.org/10.1039/C8ME00005K\n",
    "\n",
    "This study uses ~400 unique alloys from the [IEA/DOE/SANDIA Hydride Databases](http://hydrogenmaterialssearch.govtools.us/) (the hydrogen storage materials database (HSMD)) to build models for the ethalpy (and entropy) of hydrogenation of potential hydrogen storage alloys. In addition to these alloys, we have reserved an independent test set of 50 alloys. You have access to the compositions and structures of these alloys, but we are witholding the enthalpies of hydrogenation until the end of the materials data science challenge.\n",
    "\n",
    "The baseline model from the paper is random forest regression using the [magpie feature set](https://dx.doi.org/10.1038/npjcompumats.2016.28), evaluated with 10-fold cross-validation on these ~400 HSMD entries.\n",
    "\n",
    "After reproducing the results of the paper, we offer several suggestions on how to dig deeper to improve the performance of your model, or to try to gain some insight into your model. After selecting and tuning your favorite machine learning model from the workshop using the HSMD entries, you can submit your predictions to the MLMR team for [kaggle](https://kaggle.com)-style evaluation.\n",
    "\n",
    "### Starter code\n",
    "\n",
    "This notebook contains starter code to load the HSMD data, filter and clean the entries, construct magpie features using [matminer](https://github.com/hackingmaterials/matminer), and fit a linear model using scikit-learn."
   ]
  },
  {
   "cell_type": "code",
   "execution_count": 1,
   "metadata": {},
   "outputs": [],
   "source": [
    "import re\n",
    "import numpy as np\n",
    "import pandas as pd\n",
    "import pymatgen as mg\n",
    "\n",
    "from sklearn import metrics\n",
    "from sklearn import linear_model\n",
    "from sklearn import preprocessing\n",
    "from sklearn import model_selection\n",
    "\n",
    "import matplotlib.pyplot as plt\n",
    "%matplotlib inline"
   ]
  },
  {
   "cell_type": "markdown",
   "metadata": {},
   "source": [
    "#### 0. Load the data!"
   ]
  },
  {
   "cell_type": "code",
   "execution_count": 2,
   "metadata": {},
   "outputs": [
    {
     "data": {
      "text/html": [
       "<div>\n",
       "<style scoped>\n",
       "    .dataframe tbody tr th:only-of-type {\n",
       "        vertical-align: middle;\n",
       "    }\n",
       "\n",
       "    .dataframe tbody tr th {\n",
       "        vertical-align: top;\n",
       "    }\n",
       "\n",
       "    .dataframe thead th {\n",
       "        text-align: right;\n",
       "    }\n",
       "</style>\n",
       "<table border=\"1\" class=\"dataframe\">\n",
       "  <thead>\n",
       "    <tr style=\"text-align: right;\">\n",
       "      <th></th>\n",
       "      <th>Material Class</th>\n",
       "      <th>Composition Formula</th>\n",
       "      <th>Hydrogen Weight Percent</th>\n",
       "      <th>Heat of Formation (kJ/mol H2)</th>\n",
       "      <th>Temperature (˚C)</th>\n",
       "      <th>Pressure (Atmospheres Absolute)</th>\n",
       "      <th>Author Year</th>\n",
       "      <th>Reference Number</th>\n",
       "      <th>Comment1</th>\n",
       "      <th>Comment2</th>\n",
       "      <th>Comment3</th>\n",
       "    </tr>\n",
       "  </thead>\n",
       "  <tbody>\n",
       "    <tr>\n",
       "      <th>0</th>\n",
       "      <td>A2B</td>\n",
       "      <td>Mg2Ni1-yBey</td>\n",
       "      <td>3.9</td>\n",
       "      <td>71 - 80</td>\n",
       "      <td>337</td>\n",
       "      <td>2017-03-05 00:00:00</td>\n",
       "      <td>Lupu, 1982</td>\n",
       "      <td>419</td>\n",
       "      <td>(y = 0.15-0.25)</td>\n",
       "      <td>NaN</td>\n",
       "      <td>NaN</td>\n",
       "    </tr>\n",
       "    <tr>\n",
       "      <th>1</th>\n",
       "      <td>A2B</td>\n",
       "      <td>Mg2Ni1-yCuy</td>\n",
       "      <td>2.6</td>\n",
       "      <td>53 - 73</td>\n",
       "      <td>300</td>\n",
       "      <td>3.5 - 8</td>\n",
       "      <td>Darnaudery, 1983</td>\n",
       "      <td>417</td>\n",
       "      <td>(y = 0-1)</td>\n",
       "      <td>NaN</td>\n",
       "      <td>NaN</td>\n",
       "    </tr>\n",
       "    <tr>\n",
       "      <th>2</th>\n",
       "      <td>A2B</td>\n",
       "      <td>Pr2Al</td>\n",
       "      <td>1.4</td>\n",
       "      <td>NaN</td>\n",
       "      <td>NaN</td>\n",
       "      <td>NaN</td>\n",
       "      <td>Semenenko, 1985</td>\n",
       "      <td>1151</td>\n",
       "      <td>NaN</td>\n",
       "      <td>(Amorp)</td>\n",
       "      <td>NaN</td>\n",
       "    </tr>\n",
       "    <tr>\n",
       "      <th>3</th>\n",
       "      <td>A2B</td>\n",
       "      <td>Th1.5Ce.5Al</td>\n",
       "      <td>0.4</td>\n",
       "      <td>133</td>\n",
       "      <td>650</td>\n",
       "      <td>0.0003</td>\n",
       "      <td>Van Vucht, 1963</td>\n",
       "      <td>492</td>\n",
       "      <td>NaN</td>\n",
       "      <td>NaN</td>\n",
       "      <td>NaN</td>\n",
       "    </tr>\n",
       "    <tr>\n",
       "      <th>4</th>\n",
       "      <td>A2B</td>\n",
       "      <td>Th2Al</td>\n",
       "      <td>0.8</td>\n",
       "      <td>130</td>\n",
       "      <td>500</td>\n",
       "      <td>0.001</td>\n",
       "      <td>Van Vucht, 1963</td>\n",
       "      <td>492</td>\n",
       "      <td>NaN</td>\n",
       "      <td>NaN</td>\n",
       "      <td>NaN</td>\n",
       "    </tr>\n",
       "  </tbody>\n",
       "</table>\n",
       "</div>"
      ],
      "text/plain": [
       "  Material Class Composition Formula  Hydrogen Weight Percent  \\\n",
       "0            A2B         Mg2Ni1-yBey                      3.9   \n",
       "1            A2B         Mg2Ni1-yCuy                      2.6   \n",
       "2            A2B               Pr2Al                      1.4   \n",
       "3            A2B         Th1.5Ce.5Al                      0.4   \n",
       "4            A2B               Th2Al                      0.8   \n",
       "\n",
       "  Heat of Formation (kJ/mol H2) Temperature (˚C)  \\\n",
       "0                       71 - 80              337   \n",
       "1                       53 - 73              300   \n",
       "2                           NaN              NaN   \n",
       "3                           133              650   \n",
       "4                           130              500   \n",
       "\n",
       "  Pressure (Atmospheres Absolute)       Author Year  Reference Number  \\\n",
       "0             2017-03-05 00:00:00        Lupu, 1982               419   \n",
       "1                         3.5 - 8  Darnaudery, 1983               417   \n",
       "2                             NaN   Semenenko, 1985              1151   \n",
       "3                          0.0003   Van Vucht, 1963               492   \n",
       "4                           0.001   Van Vucht, 1963               492   \n",
       "\n",
       "          Comment1 Comment2 Comment3  \n",
       "0  (y = 0.15-0.25)      NaN      NaN  \n",
       "1        (y = 0-1)      NaN      NaN  \n",
       "2              NaN  (Amorp)      NaN  \n",
       "3              NaN      NaN      NaN  \n",
       "4              NaN      NaN      NaN  "
      ]
     },
     "execution_count": 2,
     "metadata": {},
     "output_type": "execute_result"
    }
   ],
   "source": [
    "# should not include the hold-out set... verify this.\n",
    "df_full = pd.read_excel('data/Hydrogen Storage DataBase Full.xlsx')\n",
    "df_full.head()"
   ]
  },
  {
   "cell_type": "code",
   "execution_count": 3,
   "metadata": {},
   "outputs": [
    {
     "data": {
      "text/html": [
       "<div>\n",
       "<style scoped>\n",
       "    .dataframe tbody tr th:only-of-type {\n",
       "        vertical-align: middle;\n",
       "    }\n",
       "\n",
       "    .dataframe tbody tr th {\n",
       "        vertical-align: top;\n",
       "    }\n",
       "\n",
       "    .dataframe thead th {\n",
       "        text-align: right;\n",
       "    }\n",
       "</style>\n",
       "<table border=\"1\" class=\"dataframe\">\n",
       "  <thead>\n",
       "    <tr style=\"text-align: right;\">\n",
       "      <th></th>\n",
       "      <th>comp</th>\n",
       "      <th>H2_wtpercent</th>\n",
       "      <th>Enthalpy</th>\n",
       "      <th>Temp_C</th>\n",
       "      <th>P_atm</th>\n",
       "      <th>Phase</th>\n",
       "      <th>Entropy (J/molK)</th>\n",
       "    </tr>\n",
       "  </thead>\n",
       "  <tbody>\n",
       "    <tr>\n",
       "      <th>0</th>\n",
       "      <td>V0.85Ti0.1Fe0.05</td>\n",
       "      <td>1.5</td>\n",
       "      <td>NaN</td>\n",
       "      <td>100</td>\n",
       "      <td>53.14</td>\n",
       "      <td>AB2</td>\n",
       "      <td>NaN</td>\n",
       "    </tr>\n",
       "    <tr>\n",
       "      <th>1</th>\n",
       "      <td>Ti0.9Zr0.1Mn1.4Cr0.35V0.2Fe0.05</td>\n",
       "      <td>NaN</td>\n",
       "      <td>NaN</td>\n",
       "      <td>100</td>\n",
       "      <td>91.14</td>\n",
       "      <td>AB2</td>\n",
       "      <td>NaN</td>\n",
       "    </tr>\n",
       "    <tr>\n",
       "      <th>2</th>\n",
       "      <td>TiCr1.9</td>\n",
       "      <td>NaN</td>\n",
       "      <td>NaN</td>\n",
       "      <td>30</td>\n",
       "      <td>72.34</td>\n",
       "      <td>AB2</td>\n",
       "      <td>NaN</td>\n",
       "    </tr>\n",
       "    <tr>\n",
       "      <th>3</th>\n",
       "      <td>(Ti0.97Zr0.03)1.1Cr1.6Mn0.4</td>\n",
       "      <td>NaN</td>\n",
       "      <td>NaN</td>\n",
       "      <td>99</td>\n",
       "      <td>527.90</td>\n",
       "      <td>AB2</td>\n",
       "      <td>NaN</td>\n",
       "    </tr>\n",
       "    <tr>\n",
       "      <th>4</th>\n",
       "      <td>TiCr1.5Mn0.25Fe0.25</td>\n",
       "      <td>NaN</td>\n",
       "      <td>NaN</td>\n",
       "      <td>25</td>\n",
       "      <td>83.61</td>\n",
       "      <td>AB2</td>\n",
       "      <td>NaN</td>\n",
       "    </tr>\n",
       "  </tbody>\n",
       "</table>\n",
       "</div>"
      ],
      "text/plain": [
       "                              comp  H2_wtpercent  Enthalpy  Temp_C   P_atm  \\\n",
       "0                 V0.85Ti0.1Fe0.05           1.5       NaN     100   53.14   \n",
       "1  Ti0.9Zr0.1Mn1.4Cr0.35V0.2Fe0.05           NaN       NaN     100   91.14   \n",
       "2                          TiCr1.9           NaN       NaN      30   72.34   \n",
       "3      (Ti0.97Zr0.03)1.1Cr1.6Mn0.4           NaN       NaN      99  527.90   \n",
       "4              TiCr1.5Mn0.25Fe0.25           NaN       NaN      25   83.61   \n",
       "\n",
       "  Phase  Entropy (J/molK)  \n",
       "0   AB2               NaN  \n",
       "1   AB2               NaN  \n",
       "2   AB2               NaN  \n",
       "3   AB2               NaN  \n",
       "4   AB2               NaN  "
      ]
     },
     "execution_count": 3,
     "metadata": {},
     "output_type": "execute_result"
    }
   ],
   "source": [
    "# load the test set... note the missing enthalpy values!\n",
    "df_test = pd.read_excel('data/test_set_jhs.xlsx')\n",
    "df_test.head()"
   ]
  },
  {
   "cell_type": "markdown",
   "metadata": {},
   "source": [
    "#### 1. Data cleaning: remove complex oxides, Mg, and references to Mm wt % and variable composition...\n",
    "Data cleaning is one of the most important components of applying ML models to real-world data... We've done the task for you!\n",
    "\n",
    "For this dataset, this amounts to writing regular expressions to filter out alloys with ill-defined compositions and calculating the mean value for entries reported as ranges.\n",
    "\n",
    "This is more consistent and scalable than the manual filtering process used for the original paper, but frankly probably required more time....\n",
    "\n",
    "![data cleaning](https://www.kdnuggets.com/images/cartoon-machine-learning-class.jpg)"
   ]
  },
  {
   "cell_type": "code",
   "execution_count": 4,
   "metadata": {},
   "outputs": [],
   "source": [
    "# remove (M) from composition string...\n",
    "pattern = re.compile(r'\\s*\\(M\\)')\n",
    "# e.g. pattern.sub('', 'LaCo4.95Mn.05 (M)')\n",
    "remove_m = lambda x: pattern.sub('', x)\n",
    "\n",
    "has_mg = lambda x: 'Mg' in x\n",
    "variable_comp = lambda x: 'x' in x or '-' in x or '+' in x or ('y' in x and 'Dy' not in x)\n",
    "has_mischmetal = lambda x: 'Mm' in x\n",
    "has_mischmetal_pct = lambda x: 'wt.% Mm' in x or 'w/o Mm' in x or 'M?' in x\n",
    "has_oxygen = lambda x: ('O' in x) and ('Os' not in x)\n",
    "\n",
    "formula_has_R = lambda x: 'RNi' in x\n",
    "formula_has_Lm = lambda x: 'Lm' in x\n",
    "\n",
    "# match parentheses, with at least one comma\n",
    "has_parens = lambda x: re.search(r'\\((.*),+(.*)\\)', x) is not None\n",
    "\n",
    "# clean up composition string\n",
    "df = df_full.copy()\n",
    "df['Composition Formula'] = df['Composition Formula'].apply(remove_m)\n",
    "\n",
    "# remove rows where material class is Complex or Mg\n",
    "df = df[~df['Material Class'].isin(['Complex', 'Mg'])]\n",
    "# df2 = df2[~df2['Composition Formula'].apply(has_mg)]\n",
    "\n",
    "# throw out records with variable composition\n",
    "df = df[~df['Composition Formula'].apply(variable_comp)]\n",
    "\n",
    "# throw out records with references to mischmetal in wt. %\n",
    "df = df[~df['Composition Formula'].apply(has_mischmetal_pct)]\n",
    "\n",
    "# throw out records containing oxygen\n",
    "df = df[~df['Composition Formula'].apply(has_oxygen)]\n",
    "\n",
    "# throw out complex compounds (formula contains a comma-separated list...)\n",
    "df = df[~df['Composition Formula'].apply(has_parens)]\n",
    "\n",
    "# throw out records containing mischmetal...\n",
    "df = df[~df['Composition Formula'].apply(has_mischmetal)]\n",
    "\n",
    "# throw out records using R for mischmetal... specific to one author\n",
    "df = df[~df['Composition Formula'].apply(formula_has_R)]\n",
    "\n",
    "# throw out records using Lm for Lanthanum-rich mischmetal... \n",
    "df = df[~df['Composition Formula'].apply(formula_has_Lm)]"
   ]
  },
  {
   "cell_type": "markdown",
   "metadata": {},
   "source": [
    "- There are a couple random datetime entries from https://doi.org/10.1016/S0925-8388(97)00592-6 and https://doi.org/10.1016/S0360-3199(00)00011-2, and appear to be Excel's fault in the original datasheet.\n",
    "- Zr.2 Ho.8 CoFe should be '1 - 8' kJ/mol H2\n",
    "- the other should be '-5 - -15' kJ/mol H2...\n",
    "\n",
    "- the rest of the entries are just ranges that need to be averaged or something, or thrown out."
   ]
  },
  {
   "cell_type": "code",
   "execution_count": 5,
   "metadata": {},
   "outputs": [],
   "source": [
    "def average_range(x):\n",
    "    \"\"\" find enthalpies reported as ranges and convert that entry to the average of the reported range \"\"\"\n",
    "    if type(x) is str and '-' in x:\n",
    "        return np.mean(list(map(float, x.split(' - '))))\n",
    "    else:\n",
    "        return x\n",
    "    \n",
    "df['Heat of Formation (kJ/mol H2)'] = df['Heat of Formation (kJ/mol H2)'].apply(average_range)"
   ]
  },
  {
   "cell_type": "code",
   "execution_count": 13,
   "metadata": {},
   "outputs": [],
   "source": [
    "df['Heat of Formation (kJ/mol H2)'] = pd.to_numeric(df['Heat of Formation (kJ/mol H2)'], errors='coerce')"
   ]
  },
  {
   "cell_type": "markdown",
   "metadata": {},
   "source": [
    "### 2. normalize composition strings\n",
    "Just use pymatgen's composition parser -- it seems to work out of the box."
   ]
  },
  {
   "cell_type": "code",
   "execution_count": null,
   "metadata": {},
   "outputs": [],
   "source": [
    "# throw out any rows with no heat of formation...\n",
    "df = df[~pd.isna(df['Heat of Formation (kJ/mol H2)'])]\n",
    "\n",
    "c = []\n",
    "for idx, row in df.iterrows():\n",
    "    c.append(mg.Composition(row['Composition Formula']))\n",
    "    \n",
    "df['composition'] = pd.Series(c, index=df.index)\n",
    "df.head()"
   ]
  },
  {
   "cell_type": "code",
   "execution_count": null,
   "metadata": {},
   "outputs": [],
   "source": [
    "# now get compositions for the test set...\n",
    "c_test = []\n",
    "for idx, row in df_test.iterrows():\n",
    "    c_test.append(mg.Composition(row['comp']))\n",
    "    \n",
    "df_test['composition'] = pd.Series(c_test, index=df_test.index)\n",
    "df_test.head()"
   ]
  },
  {
   "cell_type": "markdown",
   "metadata": {},
   "source": [
    "Look at the target distribution: (consider predicting the log of the enthalpy instead of the value, )"
   ]
  },
  {
   "cell_type": "code",
   "execution_count": null,
   "metadata": {},
   "outputs": [],
   "source": [
    "fig, (ax1, ax2) = plt.subplots(figsize=(12,4), ncols=2)\n",
    "ax1.hist(df['Heat of Formation (kJ/mol H2)'].dropna().apply(float), bins=32, density=True);\n",
    "ax1.set(xlabel='Heat of Formation (kJ/mol H2)', ylabel='probability density');\n",
    "\n",
    "ax2.hist(np.log(df['Heat of Formation (kJ/mol H2)'].dropna().apply(float)), bins=32, density=True);\n",
    "ax2.set(xlabel='log Heat of Formation (kJ/mol H2)', ylabel='probability density');\n",
    "\n",
    "plt.tight_layout()"
   ]
  },
  {
   "cell_type": "markdown",
   "metadata": {},
   "source": [
    "### 3. Finally, construct some (magpie) features and do some modeling"
   ]
  },
  {
   "cell_type": "code",
   "execution_count": null,
   "metadata": {},
   "outputs": [],
   "source": [
    "from matminer.featurizers import composition as composition_features\n",
    "\n",
    "# use the standard magpie feature set...\n",
    "# e.g. min, max, range, and mean for a collection of elemental properties (e.g. atomic number, covalent radius, space group number...)\n",
    "f = composition_features.ElementProperty.from_preset('magpie')\n",
    "X = f.featurize_dataframe(df, col_id='composition', inplace=False)\n",
    "y = np.array(df['Heat of Formation (kJ/mol H2)'], dtype=float)\n",
    "\n",
    "# matminer adds columns to the input dataframe... \n",
    "# so drop the original (metadata and target) columns from the new dataframe\n",
    "n_metadata = len(df.keys())\n",
    "X = X.iloc[:,n_metadata:]\n",
    "X.head()"
   ]
  },
  {
   "cell_type": "code",
   "execution_count": null,
   "metadata": {},
   "outputs": [],
   "source": [
    "# compute magpie features for the test set...\n",
    "Xt = f.featurize_dataframe(df_test, col_id='composition', inplace=False)\n",
    "n_metadata = len(df_test.keys())\n",
    "Xt = Xt.iloc[:,n_metadata:]\n",
    "Xt.head()"
   ]
  },
  {
   "cell_type": "code",
   "execution_count": null,
   "metadata": {},
   "outputs": [],
   "source": [
    "# naive train/val split, without consideration of duplicate compositions\n",
    "\n",
    "y = np.array(df['Heat of Formation (kJ/mol H2)'], dtype=float)\n",
    "X_train, X_val, y_train, y_val = model_selection.train_test_split(X, y, test_size=0.2, random_state=42)\n",
    "\n",
    "# standardize the input features for linear regression\n",
    "# skip this for e.g. random forest...\n",
    "std = preprocessing.StandardScaler()\n",
    "std.fit(X_train)\n",
    "X_train, X_val, X_test = std.transform(X_train), std.transform(X_val), std.transform(Xt)"
   ]
  },
  {
   "cell_type": "code",
   "execution_count": null,
   "metadata": {},
   "outputs": [],
   "source": [
    "fig, ax = plt.subplots(figsize=(4,4))\n",
    "\n",
    "model = linear_model.LinearRegression()\n",
    "\n",
    "model.fit(X_train, y_train)\n",
    "ax.scatter(y_train, model.predict(X_train), label='train')\n",
    "ax.scatter(y_val, model.predict(X_val), label='val', alpha=0.5)\n",
    "ax.plot((0,400), (0,400), linestyle='--', color='k')\n",
    "\n",
    "ax.set(xlabel=r'$\\Delta H$', ylabel = r'predicted $\\Delta H$');\n",
    "ax.legend()\n",
    "\n",
    "print('train:', metrics.mean_absolute_error(y_train, model.predict(X_train)), 'kJ/mol')\n",
    "print('val:', metrics.mean_absolute_error(y_val, model.predict(X_val)), 'kJ/mol')"
   ]
  },
  {
   "cell_type": "code",
   "execution_count": null,
   "metadata": {},
   "outputs": [],
   "source": [
    "# print out (and save) test set predictions\n",
    "pred_test = model.predict(X_test)\n",
    "\n",
    "with open('hydride_test_set_predictions.txt', 'w') as textfile:\n",
    "    for idx, row in df_test.iterrows():\n",
    "        print('{}, {}'.format(row.comp, pred_test[idx]))\n",
    "        print('{}, {}'.format(row.comp, pred_test[idx]), file=textfile)"
   ]
  },
  {
   "cell_type": "markdown",
   "metadata": {},
   "source": [
    "### 4. Baseline challenge\n",
    "\n",
    "Random forest regression using magpie features. (**Don't apply standardization** -- this typically isn't necessary for tree-based models).\n",
    "\n",
    "#### reproduce Jae's results with 10-fold randomized CV (on the training set)\n",
    "- compare your 10-fold cross-validation performance with the paper\n",
    "- save your predictions on the independent test set -- we'll evaluate them at the end of the challenge!\n",
    "- can you do a feature importance analysis? What's features are important for these hydride materials?\n",
    "- justify/interpret the model performance"
   ]
  },
  {
   "cell_type": "code",
   "execution_count": null,
   "metadata": {},
   "outputs": [],
   "source": [
    "# Random forest modeling and evaluation here...\n"
   ]
  },
  {
   "cell_type": "code",
   "execution_count": null,
   "metadata": {},
   "outputs": [],
   "source": []
  },
  {
   "cell_type": "markdown",
   "metadata": {},
   "source": [
    "### 5. Digging deeper\n",
    "\n",
    "Here are some primer questions to inspire you. These suggestions are roughly ordered according to how deep we think you'll need to dig in order to answer them.\n",
    "\n",
    "Save your predictions for the independent test set from your favorite model -- we'll evaluate them at the end of the challenge!\n",
    "\n",
    "#### Is linear regression better than (or as good as) random forest?\n",
    "Can you train a regularized linear model that is better (or as good as) the RF model?\n",
    "\n",
    "(Hint: make sure you re-compute the standardization on just the training set for each validation fold -- look into scikit-learn pipelines)\n",
    "\n",
    "#### Do solid-solution compounds help?\n",
    "There are no solid solutions in the hold-out set.... Does it help or hurt to include them in the training set?\n",
    "\n",
    "#### Does it help to add structural information?\n",
    "- Does it help to add structural information to your model? (e.g. the 'Material Class' column)\n",
    "- What about training separate models for each different structure class?\n",
    "\n",
    "#### Dealing with duplicate and near-duplicate compositions\n",
    "There are a non-trivial number of  duplicate and near-duplicate compositions in the dataset -- with the randomized cross-validation procedure we've been using, it's possible that the same composition shows up in both training and validation sets.\n",
    "- Does this significantly bias the estimated generalization performance? (To address this question, you might find helpful the example code on creating fair train/val splits at the end of the notebook.)\n",
    "\n",
    "#### Model selection\n",
    "Choose your favorite model from the MLMR workshop and do some hyperparameter tuning. Can you get better predictive performance?\n",
    "\n",
    "#### Feature engineering\n",
    "Magpie includes a diverse set of numerical and categorical properties of the elements. Some of the features in the magpie feature set may be more relevant than others to predicting the quality of hydrogen storage materials. (Consider e.g. the composition-averaged space group number....)\n",
    "- can you train a model (need not be a random forest) with competetive performance using a hand-picked or automatically selected subset of magpie features?\n",
    "- Consider using alternative features. (Check out some of the other feature sets available in [matminer](https://github.com/hackingmaterials/matminer), or come up with your own)"
   ]
  },
  {
   "cell_type": "code",
   "execution_count": null,
   "metadata": {},
   "outputs": [],
   "source": [
    "# further analysis here...\n"
   ]
  },
  {
   "cell_type": "code",
   "execution_count": null,
   "metadata": {},
   "outputs": [],
   "source": []
  },
  {
   "cell_type": "markdown",
   "metadata": {},
   "source": [
    "#### Example code for fair train/val splitting"
   ]
  },
  {
   "cell_type": "code",
   "execution_count": null,
   "metadata": {},
   "outputs": [],
   "source": [
    "# do a fair train/val split by splitting out unique compositions together, so that no unique composition shows up in both train and val\n",
    "compositions = df.composition.apply(str).unique()\n",
    "C_train, C_test = model_selection.train_test_split(compositions, test_size=0.25, random_state=42)\n",
    "\n",
    "X_train = X[df.composition.apply(str).isin(C_train)]\n",
    "y_train = y[df.composition.apply(str).isin(C_train)]\n",
    "\n",
    "X_test = X[df.composition.apply(str).isin(C_test)]\n",
    "y_test = y[df.composition.apply(str).isin(C_test)]\n",
    "\n",
    "# standardize the input features for linear regression\n",
    "# can skip this for e.g. random forest...\n",
    "std = preprocessing.StandardScaler()\n",
    "std.fit(X_train)\n",
    "X_train, X_test = std.transform(X_train), std.transform(X_test)"
   ]
  },
  {
   "cell_type": "code",
   "execution_count": null,
   "metadata": {},
   "outputs": [],
   "source": [
    "# instead, do a fair train/val split by splitting out nearly-unique compositions separately\n",
    "# this should split compounds up by considering only their constituent elements\n",
    "compositions = df.composition.unique()\n",
    "C_train, C_test = model_selection.train_test_split(compositions, test_size=0.25, random_state=42)\n",
    "\n",
    "X_train = X[df.composition.isin(C_train)]\n",
    "y_train = y[df.composition.isin(C_train)]\n",
    "\n",
    "X_test = X[df.composition.isin(C_test)]\n",
    "y_test = y[df.composition.isin(C_test)]\n",
    "\n",
    "# standardize the input features for linear regression\n",
    "# can skip this for e.g. random forest...\n",
    "std = preprocessing.StandardScaler()\n",
    "std.fit(X_train)\n",
    "X_train, X_test = std.transform(X_train), std.transform(X_test)"
   ]
  },
  {
   "cell_type": "code",
   "execution_count": null,
   "metadata": {},
   "outputs": [],
   "source": []
  },
  {
   "cell_type": "code",
   "execution_count": null,
   "metadata": {},
   "outputs": [],
   "source": []
  }
 ],
 "metadata": {
  "kernelspec": {
   "display_name": "Python 3",
   "language": "python",
   "name": "python3"
  },
  "language_info": {
   "codemirror_mode": {
    "name": "ipython",
    "version": 3
   },
   "file_extension": ".py",
   "mimetype": "text/x-python",
   "name": "python",
   "nbconvert_exporter": "python",
   "pygments_lexer": "ipython3",
   "version": "3.6.6"
  }
 },
 "nbformat": 4,
 "nbformat_minor": 2
}
