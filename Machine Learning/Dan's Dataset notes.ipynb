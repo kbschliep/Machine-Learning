{
 "cells": [
  {
   "cell_type": "markdown",
   "metadata": {},
   "source": [
    "# Pipeline\n",
    "* PreProcess - with k means don't normalize - try adaptive background subtraction or masking to obtain finer details\n",
    "* PCA or Multidimensional scaling\n",
    "* Define Dissimilarity Measure\n",
    "* Determine number of clusters needed by comparing with random data - might need physics in noise. red shifted \n",
    "* Cluster using k-means or break it down using the heirarchical cluster array - Radial Dendrogram is badass or fancy ring based on pie graph for each clustering called a sunburst -> outtermost part of the sun some other function of the materials to link structure and properties\n",
    "* Track evolution of clustered regions in time (cross-correlation) of each cluster or track motion of cluster center or cluster intensity - Might use deep learning to find clustered regions also"
   ]
  },
  {
   "cell_type": "markdown",
   "metadata": {},
   "source": [
    "Point cloud library  use ransack - might be easier to use statistically analysis. "
   ]
  }
 ],
 "metadata": {
  "kernelspec": {
   "display_name": "Python 3",
   "language": "python",
   "name": "python3"
  },
  "language_info": {
   "codemirror_mode": {
    "name": "ipython",
    "version": 3
   },
   "file_extension": ".py",
   "mimetype": "text/x-python",
   "name": "python",
   "nbconvert_exporter": "python",
   "pygments_lexer": "ipython3",
   "version": "3.6.6"
  },
  "varInspector": {
   "cols": {
    "lenName": 16,
    "lenType": 16,
    "lenVar": 40
   },
   "kernels_config": {
    "python": {
     "delete_cmd_postfix": "",
     "delete_cmd_prefix": "del ",
     "library": "var_list.py",
     "varRefreshCmd": "print(var_dic_list())"
    },
    "r": {
     "delete_cmd_postfix": ") ",
     "delete_cmd_prefix": "rm(",
     "library": "var_list.r",
     "varRefreshCmd": "cat(var_dic_list()) "
    }
   },
   "types_to_exclude": [
    "module",
    "function",
    "builtin_function_or_method",
    "instance",
    "_Feature"
   ],
   "window_display": false
  }
 },
 "nbformat": 4,
 "nbformat_minor": 2
}
