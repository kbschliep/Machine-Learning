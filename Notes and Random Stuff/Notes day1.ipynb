{
 "cells": [
  {
   "cell_type": "markdown",
   "metadata": {},
   "source": [
    "# Machine Learning Notes\n",
    "Day 1"
   ]
  },
  {
   "cell_type": "markdown",
   "metadata": {},
   "source": [
    "#### General Notes\n",
    "Instead of working with full images you can work with the x-y coordinates of atoms in each image\n"
   ]
  },
  {
   "cell_type": "markdown",
   "metadata": {},
   "source": [
    "Things needed for all images\n",
    "* Thresholding and Frame Differencing\n",
    "* Mean/Median Filters\n",
    "* Runnign Gaussin Averaging\n",
    "* Background Mixture modles"
   ]
  },
  {
   "cell_type": "markdown",
   "metadata": {},
   "source": [
    "### Thresholding\n",
    "Single level thresholding is probably bad (e.g. all values above value are remmoved)\n",
    "This is a binary threshold only get data above or below a value\n",
    "* Threshold\n",
    "All values above or below value ->0\n",
    "* Truncate\n",
    "All values abolve or below value ->value\n",
    "\n",
    "Need to determine where to make threshold value\n",
    "Use Otsu's method \n",
    "Computer desides where the best position is for value based on classes\n",
    "Sets up a set of classes and optimizes for that\n",
    "Could use Gaussing Mixture method instead\n",
    "\n",
    "Look to thesholding jupyter example\n",
    "Use adaptive thresholding -> background small areas\n",
    "Use frame differencing to find changes -> this is useful in object detection |Framei-Framei-1|>Threshold\n",
    "\n",
    "Look into spectral thresholding notebook\n",
    "For big data -> Select subset and iterate over entire dataset (bring up list of entries and pull in one at a time randomly by removing name from list after uploading it)\n",
    "\n"
   ]
  },
  {
   "cell_type": "markdown",
   "metadata": {},
   "source": [
    "Use a Bokeh for 3d in web visualizations"
   ]
  },
  {
   "cell_type": "markdown",
   "metadata": {},
   "source": [
    "## Filtering\n",
    "Use adaptive filtering with weiner 2 filter \n",
    "Check if computer converts up from 32 bit to 64 bit and adds precision\n",
    "* True zeros - 1e-12 vs 1e-18 due to double/float conversion\n",
    "* Negative values and imaginary numbers - Code some data as real and some as imaginary but be careful\n",
    "* Check your range - make sure all same data type 32 vs 64\n"
   ]
  },
  {
   "cell_type": "markdown",
   "metadata": {},
   "source": [
    "## Feature Extraction, Detection, and Enhancement\n",
    "*Edge, corner, blob, shape, and motion detection - Thresholding and Hough Transform\n",
    "Edge Detection\n",
    "*Use Regionprops from skimage \n",
    "* Linear hough transformation Probably use a different method for lines and circles\n",
    "* * Main idea to take away from Hough is the acuumulator space - accumulator arrays"
   ]
  },
  {
   "cell_type": "markdown",
   "metadata": {},
   "source": [
    "## Deep Learning\n",
    "\n"
   ]
  }
 ],
 "metadata": {
  "kernelspec": {
   "display_name": "Python 3",
   "language": "python",
   "name": "python3"
  },
  "language_info": {
   "codemirror_mode": {
    "name": "ipython",
    "version": 3
   },
   "file_extension": ".py",
   "mimetype": "text/x-python",
   "name": "python",
   "nbconvert_exporter": "python",
   "pygments_lexer": "ipython3",
   "version": "3.6.6"
  }
 },
 "nbformat": 4,
 "nbformat_minor": 2
}
