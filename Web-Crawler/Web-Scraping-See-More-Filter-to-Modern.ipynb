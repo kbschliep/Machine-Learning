{
 "cells": [
  {
   "cell_type": "code",
   "execution_count": 104,
   "metadata": {},
   "outputs": [],
   "source": [
    "import requests \n",
    "from bs4 import BeautifulSoup\n",
    "import pandas as pd\n",
    "import numpy as np\n",
    "import re\n",
    "import h5py\n",
    "from selenium import webdriver\n",
    "from selenium.webdriver.common.keys import Keys\n",
    "from selenium.webdriver.common.action_chains import ActionChains\n",
    "from selenium.webdriver.support.ui import Select\n",
    "from selenium.common.exceptions import TimeoutException\n",
    "from selenium.webdriver.support.ui import WebDriverWait\n",
    "import time"
   ]
  },
  {
   "cell_type": "code",
   "execution_count": 53,
   "metadata": {},
   "outputs": [],
   "source": [
    "base_dir=\"https://magic.wizards.com/\"\n",
    "base_url=\"https://magic.wizards.com/en/content/deck-lists-magic-online-products-game-info\""
   ]
  },
  {
   "cell_type": "code",
   "execution_count": 106,
   "metadata": {},
   "outputs": [],
   "source": [
    "# create a new Firefox session\n",
    "driver = webdriver.Chrome()\n",
    "driver.implicitly_wait(30)\n",
    "driver.get(base_url)\n",
    "driver.maximize_window()"
   ]
  },
  {
   "cell_type": "code",
   "execution_count": 107,
   "metadata": {},
   "outputs": [],
   "source": [
    "driver.execute_script(\"window.scrollTo(0, 200)\") \n",
    "Filterby=driver.find_element_by_id('event_filter')\n",
    "Filterby.click()\n",
    "time.sleep(1)\n",
    "Modern_button=driver.find_element_by_xpath(\"//li[contains(text(), 'Modern')]\")\n",
    "Modern_button.click()\n",
    "time.sleep(1)\n",
    "Search_button=driver.find_element_by_id('custom-search-submit')\n",
    "Search_button.click()\n",
    "\n",
    "# select by visible text\n",
    "# select.select_by_visible_text('Modern')"
   ]
  },
  {
   "cell_type": "code",
   "execution_count": null,
   "metadata": {},
   "outputs": [],
   "source": [
    "#After opening the url above, Selenium clicks the specific agency link\n",
    "\n",
    "\n",
    "SCROLL_PAUSE_TIME = 1\n",
    "\n",
    "timeout = 60\n",
    "\n",
    "\n",
    "\n",
    "while True:\n",
    "\n",
    "    # Get scroll height\n",
    "    ### This is the difference. Moving this *inside* the loop\n",
    "    ### means that it checks if scrollTo is still scrolling \n",
    "    last_height = driver.execute_script(\"return document.body.scrollHeight\")\n",
    "\n",
    "    # Scroll down to bottom\n",
    "    driver.execute_script(\"window.scrollTo(0, document.body.scrollHeight);\")\n",
    "    \n",
    "    # Wait to load page\n",
    "    time.sleep(SCROLL_PAUSE_TIME)\n",
    "    \n",
    "    # touch da fishy\n",
    "    da_fishy = driver.find_element_by_class_name('see-more-article-listing-section') #See more\n",
    "    da_fishy.click() #click see more\n",
    "\n",
    "    # Calculate new scroll height and compare with last scroll height\n",
    "    new_height = driver.execute_script(\"return document.body.scrollHeight\")\n",
    "    i=0\n",
    "    while (new_height == last_height) and (i<timeout) :\n",
    "\n",
    "        # Calculate new scroll height and compare with last scroll height\n",
    "        new_height = driver.execute_script(\"return document.body.scrollHeight\")\n",
    "\n",
    "        time.sleep(1)\n",
    "        i+=1\n",
    "    if i==timeout:\n",
    "        break\n",
    "#         try:\n",
    "#             WebDriverWait(driver, timeout).until(new_height != last_height)\n",
    "#         except TimeoutException: \n",
    "#             print (\"Timed out waiting for page to load\")\n"
   ]
  },
  {
   "cell_type": "code",
   "execution_count": 93,
   "metadata": {},
   "outputs": [
    {
     "data": {
      "text/plain": [
       "2294"
      ]
     },
     "execution_count": 93,
     "metadata": {},
     "output_type": "execute_result"
    }
   ],
   "source": [
    "last_height"
   ]
  },
  {
   "cell_type": "code",
   "execution_count": 51,
   "metadata": {},
   "outputs": [],
   "source": [
    "\n",
    "r =  requests.get(base_url)\n",
    "c = r.content\n",
    "soup=BeautifulSoup(c,\"html.parser\")"
   ]
  },
  {
   "cell_type": "code",
   "execution_count": null,
   "metadata": {},
   "outputs": [],
   "source": []
  },
  {
   "cell_type": "code",
   "execution_count": null,
   "metadata": {},
   "outputs": [],
   "source": [
    "# Opens all links and gets all data\n",
    "links=[]\n",
    "for link in soup.find(\"div\",{\"class\":\"articles-listing\"}).find_all('a'):\n",
    "    a=link.get('href')\n",
    "    links.append(a)"
   ]
  },
  {
   "cell_type": "code",
   "execution_count": null,
   "metadata": {},
   "outputs": [],
   "source": [
    "\n",
    "deck_name_ls=[]\n",
    "card_type_ls=[]\n",
    "card_type_ls_string=[]\n",
    "for page in links:\n",
    "    page_url=base_dir+page\n",
    "    r=requests.get(page_url)\n",
    "    c=r.content\n",
    "    page_soup=BeautifulSoup(c,\"html.parser\")\n",
    "#     page_list.append(page_soup)\n",
    "    for deckname in page_soup.find_all(\"div\",{\"class\":\"deck-group\"}):\n",
    "        deck_name=Data_set.require_group(deckname.find(\"span\",{\"class\":\"deck-meta\"}).h4.string)\n",
    "        deck_name_ls.append(deck_name.name)\n",
    "        card_type=[]\n",
    "        card_count=[]\n",
    "        card_name=[]\n",
    "        card_link=[]\n",
    "        sideb_type=[]\n",
    "        sideb_count=[]\n",
    "        sideb_name=[]\n",
    "        sideb_link=[]\n",
    "        for card in deckname.find(\"div\", {\"class\":\"sorted-by-overview-container\"}).find_all(\"div\",{\"class\":\"element\"}):\n",
    "            card_type.append(np.chararray.encode(card.h5.text,'utf8'))\n",
    "            card_type_ls.append(card.h5.text)\n",
    "            card_type_ls_string.append(card.h5.text)\n",
    "            card_count.append(card.find(\"span\",{\"class\":\"card-count\"}).text)\n",
    "            card_name.append(card.find(\"span\",{\"class\":\"card-name\"}).text)\n",
    "            card_link.append(card.find(\"span\",{\"class\":\"card-name\"}).a.get('href'))\n",
    "#             sideb_type.append(np.chararray.encode(card.find(\"div\", {\"class\":\"sorted-by-sideboard-container\"}).h5.text, 'utf8'))\n",
    "        for sideb in deckname.find(\"div\", {\"class\":\"sorted-by-sideboard-container\"}).find_all(\"span\",{\"class\":\"row\"}):\n",
    "            sideb_count.append(np.chararray.encode(sideb.find(\"span\",{\"class\":\"card-count\"}).text, 'utf8'))\n",
    "            sideb_name.append(np.chararray.encode(sideb.find(\"span\",{\"class\":\"card-name\"}).text, 'utf8'))\n",
    "            sideb_link.append(np.chararray.encode(sideb.find(\"span\",{\"class\":\"card-name\"}).a.get('href'), 'utf8'))\n",
    "                \n",
    "        deck=deck_name.require_group('Deck')\n",
    "        ctype=deck.require_group('Card Types')\n",
    "        ccount=deck.require_group('Card Counts')\n",
    "        cname=deck.require_group('Card Names')\n",
    "        clink=deck.require_group('Card Links')\n",
    "        sideb=deck_name.require_group('Sideboard')\n",
    "        sideb_ctype=sideb.require_group('Sideboard Card Types')\n",
    "        sideb_ccount=sideb.require_group('Sideboard Card Counts')\n",
    "        sideb_cname=sideb.require_group('Sideboard Card Names')\n",
    "        sideb_clink=sideb.require_group('Sideboard Card Links')\n",
    "        \n",
    "        ctype.create_dataset('Card Type',(len(card_type),1), str,card_type)\n",
    "        ccount.create_dataset('Card Count',(len(card_count),1),str,card_count)\n",
    "        cname.create_dataset('Card Name',(len(card_name),1),str,card_name)\n",
    "        clink.create_dataset('Card Link',(len(card_link),1),str,card_link)\n",
    "\n",
    "#         sideb_ctype.create_dataset('Card Type',(len(sideb_type),1),'S13',card_type)\n",
    "#         sideb_ccount.create_dataset('Card Count',(len(sideb_count),1),'S13',card_count)\n",
    "#         sideb_cname.create_dataset('Card Name',(len(sideb_name),1),'S13',card_name)\n",
    "#         sideb_clink.create_dataset('Card Link',(len(sideb_link),1),'S13',card_link)\n",
    "                                 \n",
    "                                 \n",
    "#         for a in range(len(temp_deck)):\n",
    "#             decks_list.append(temp_deck[a])\n",
    "#         for deck in decks.find(\"div\",{\"class\":\"deck-list-text\"}):\n",
    "#             CreatureandNumber.append(deck.find('h5'))\n",
    "#         for deck_attr in page_soup.find(\"div\",{\"class\":\"deck-list-text\"}):\n",
    "#             for card_attr in page_soup.find(\"div\", {\"class\":\"sorted-by-overview-container\"}):"
   ]
  },
  {
   "cell_type": "code",
   "execution_count": null,
   "metadata": {},
   "outputs": [],
   "source": [
    "Data_set.close()"
   ]
  },
  {
   "cell_type": "code",
   "execution_count": null,
   "metadata": {},
   "outputs": [],
   "source": [
    "decks=[]\n",
    "for i in range(len(pages)):\n",
    "    decks.append(pages[i].find(\"div\",{\"class\":\"decklists\"}))\n",
    "\n",
    "    "
   ]
  },
  {
   "cell_type": "code",
   "execution_count": null,
   "metadata": {},
   "outputs": [],
   "source": [
    "deck=[]\n",
    "for j in range(len(decks)):\n",
    "        deck.append(decks[j].find(\"div\",{\"class\":\"deck-list-text\"}))"
   ]
  },
  {
   "cell_type": "code",
   "execution_count": null,
   "metadata": {},
   "outputs": [],
   "source": [
    "deck[0].find_all('h5')[0].text"
   ]
  },
  {
   "cell_type": "code",
   "execution_count": null,
   "metadata": {},
   "outputs": [],
   "source": [
    "card_type_ls_string"
   ]
  },
  {
   "cell_type": "code",
   "execution_count": null,
   "metadata": {},
   "outputs": [],
   "source": [
    "(len(card_type),1)"
   ]
  },
  {
   "cell_type": "code",
   "execution_count": null,
   "metadata": {},
   "outputs": [],
   "source": [
    "encode(card_link,\"ascii\",\"ignore\")"
   ]
  },
  {
   "cell_type": "code",
   "execution_count": null,
   "metadata": {},
   "outputs": [],
   "source": [
    "card_type_ls_string[0]"
   ]
  },
  {
   "cell_type": "code",
   "execution_count": null,
   "metadata": {},
   "outputs": [],
   "source": [
    "test=h5py.File('test.hdf5')"
   ]
  },
  {
   "cell_type": "code",
   "execution_count": null,
   "metadata": {},
   "outputs": [],
   "source": [
    "testsub=test.create_group('test2')"
   ]
  },
  {
   "cell_type": "code",
   "execution_count": null,
   "metadata": {},
   "outputs": [],
   "source": [
    "deck_name."
   ]
  },
  {
   "cell_type": "code",
   "execution_count": null,
   "metadata": {},
   "outputs": [],
   "source": []
  }
 ],
 "metadata": {
  "kernelspec": {
   "display_name": "Python [conda env:Machine_Learning]",
   "language": "python",
   "name": "conda-env-Machine_Learning-py"
  },
  "language_info": {
   "codemirror_mode": {
    "name": "ipython",
    "version": 3
   },
   "file_extension": ".py",
   "mimetype": "text/x-python",
   "name": "python",
   "nbconvert_exporter": "python",
   "pygments_lexer": "ipython3",
   "version": "3.6.7"
  }
 },
 "nbformat": 4,
 "nbformat_minor": 2
}
