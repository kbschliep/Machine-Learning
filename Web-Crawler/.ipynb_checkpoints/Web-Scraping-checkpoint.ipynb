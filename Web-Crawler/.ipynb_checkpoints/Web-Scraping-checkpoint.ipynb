{
 "cells": [
  {
   "cell_type": "code",
   "execution_count": 268,
   "metadata": {},
   "outputs": [],
   "source": [
    "import requests \n",
    "from bs4 import BeautifulSoup\n",
    "import pandas as pd\n",
    "import numpy as np\n",
    "import re\n",
    "import h5py"
   ]
  },
  {
   "cell_type": "code",
   "execution_count": 199,
   "metadata": {},
   "outputs": [],
   "source": [
    "base_dir=\"https://magic.wizards.com/\"\n",
    "base_url=\"https://magic.wizards.com/en/content/deck-lists-magic-online-products-game-info\"\n",
    "r =  requests.get(base_url)\n",
    "c = r.content\n",
    "soup=BeautifulSoup(c,\"html.parser\")"
   ]
  },
  {
   "cell_type": "code",
   "execution_count": 202,
   "metadata": {},
   "outputs": [],
   "source": [
    "# Opens all links and gets all data\n",
    "links=[]\n",
    "for link in soup.find(\"div\",{\"class\":\"articles-listing\"}).find_all('a'):\n",
    "    a=link.get('href')\n",
    "    links.append(a)"
   ]
  },
  {
   "cell_type": "code",
   "execution_count": 290,
   "metadata": {},
   "outputs": [],
   "source": [
    "Data_set=h5py.File('Winning_Decklist_Dataset.hdf5')\n",
    "\n",
    "for page in links:\n",
    "    page_url=base_dir+page\n",
    "    r=requests.get(page_url)\n",
    "    c=r.content\n",
    "    page_soup=BeautifulSoup(c,\"html.parser\")\n",
    "#     page_list.append(page_soup)\n",
    "    for deckname in page_soup.find_all(\"span\",{\"class\":\"deck-group\"}):\n",
    "        deck_name=Data_set.create_group(deckname.find(\"span\",{\"class\":\"deck-meta\"}).h4.string)\n",
    "        card_type=[]\n",
    "        card_count=[]\n",
    "        card_name=[]\n",
    "        card_link=[]\n",
    "        sideb_type=[]\n",
    "        sideb_count=[]\n",
    "        sideb_name=[]\n",
    "        sideb_link=[]\n",
    "#         for deck_attr in page_soup.find(\"div\",{\"class\":\"deck-list-text\"}):\n",
    "#             for card_attr in page_soup.find(\"div\", {\"class\":\"sorted-by-overview-container\"}):\n",
    "        for card in deckname.find(\"div\", {\"class\":\"sorted-by-overview-container\"}).find_all(\"div\",{\"class\":\"element\"}):\n",
    "            card_type.append(card.h5.text)\n",
    "            card_count.append(card.find(\"span\",{\"class\":\"card-count\"}).text)\n",
    "            card_name.append(card.find(\"span\",{\"class\":\"card-name\"}).text)\n",
    "            card_link.append(card.find(\"span\",{\"class\":\"card-name\"}).a.get('href'))\n",
    "        for sideb in deckname.find(\"div\", {\"class\":\"sorted-by-sideboard-container\"}).find_all(\"div\",{\"class\":\"element\"}):\n",
    "            sideb_type.append(card.h5.text)\n",
    "            sideb_count.append(card.find(\"span\",{\"class\":\"card-count\"}).text)\n",
    "            sideb_name.append(card.find(\"span\",{\"class\":\"card-name\"}).text)\n",
    "            sideb_link.append(card.find(\"span\",{\"class\":\"card-name\"}).a.get('href'))\n",
    "                \n",
    "        deck=deck_name.create_group('Deck')\n",
    "        ctype=deck.create_group('Card Types')\n",
    "        ccount=deck.create_group('Card Counts')\n",
    "        cname=deck.create_group('Card Names')\n",
    "        clink=deck.create_group('Card Links')\n",
    "        sideb=deck_name.create_group('Sideboard')\n",
    "        sideb_ctype=deck.create_group('Sideboard Card Types')\n",
    "        sideb_ccount=deck.create_group('Sideboard Card Counts')\n",
    "        sideb_cname=deck.create_group('Sideboard Card Names')\n",
    "        sideb_clink=deck.create_group('Sideboard Card Links')\n",
    "        \n",
    "        ctype.create_dataset('Card Type',(len(card_type,1),'S10',card_type))\n",
    "        ccount.create_dataset('Card Count',(len(card_count,1),'S10',card_count))\n",
    "        cname.create_dataset('Card Name',(len(card_name,1),'S10',card_name))\n",
    "        clink.create_dataset('Card Link',(len(card_link,1),'S10',card_link))\n",
    "\n",
    "        sideb_ctype.create_dataset('Card Type',(len(sideb_type,1),'S10',card_type))\n",
    "        sideb_ccount.create_dataset('Card Count',(len(sideb_count,1),'S10',card_count))\n",
    "        sideb_cname.create_dataset('Card Name',(len(sideb_name,1),'S10',card_name))\n",
    "        sideb_clink.create_dataset('Card Link',(len(sideb_link,1),'S10',card_link))\n",
    "                                 \n",
    "                                 \n",
    "#         for a in range(len(temp_deck)):\n",
    "#             decks_list.append(temp_deck[a])\n",
    "#         for deck in decks.find(\"div\",{\"class\":\"deck-list-text\"}):\n",
    "#             CreatureandNumber.append(deck.find('h5'))"
   ]
  },
  {
   "cell_type": "code",
   "execution_count": 133,
   "metadata": {},
   "outputs": [
    {
     "ename": "AttributeError",
     "evalue": "ResultSet object has no attribute 'get'. You're probably treating a list of items like a single item. Did you call find_all() when you meant to call find()?",
     "output_type": "error",
     "traceback": [
      "\u001b[1;31m---------------------------------------------------------------------------\u001b[0m",
      "\u001b[1;31mAttributeError\u001b[0m                            Traceback (most recent call last)",
      "\u001b[1;32m<ipython-input-133-d73a6ace852e>\u001b[0m in \u001b[0;36m<module>\u001b[1;34m\u001b[0m\n\u001b[0;32m      3\u001b[0m \u001b[1;32mfor\u001b[0m \u001b[0mi\u001b[0m \u001b[1;32min\u001b[0m \u001b[0mrange\u001b[0m\u001b[1;33m(\u001b[0m\u001b[0mlen\u001b[0m\u001b[1;33m(\u001b[0m\u001b[0mpages\u001b[0m\u001b[1;33m)\u001b[0m\u001b[1;33m)\u001b[0m\u001b[1;33m:\u001b[0m\u001b[1;33m\u001b[0m\u001b[1;33m\u001b[0m\u001b[0m\n\u001b[0;32m      4\u001b[0m     \u001b[0mb\u001b[0m \u001b[1;33m=\u001b[0m \u001b[0mpages\u001b[0m\u001b[1;33m[\u001b[0m\u001b[0mi\u001b[0m\u001b[1;33m]\u001b[0m\u001b[1;33m.\u001b[0m\u001b[0mfind_all\u001b[0m\u001b[1;33m(\u001b[0m\u001b[1;34m'a'\u001b[0m\u001b[1;33m)\u001b[0m\u001b[1;33m\u001b[0m\u001b[1;33m\u001b[0m\u001b[0m\n\u001b[1;32m----> 5\u001b[1;33m     \u001b[0mdeck_meta\u001b[0m\u001b[1;33m=\u001b[0m\u001b[0mb\u001b[0m\u001b[1;33m.\u001b[0m\u001b[0mget\u001b[0m\u001b[1;33m(\u001b[0m\u001b[1;34m'name'\u001b[0m\u001b[1;33m)\u001b[0m\u001b[1;33m\u001b[0m\u001b[1;33m\u001b[0m\u001b[0m\n\u001b[0m\u001b[0;32m      6\u001b[0m     \u001b[0mdecks\u001b[0m\u001b[1;33m.\u001b[0m\u001b[0mappend\u001b[0m\u001b[1;33m(\u001b[0m\u001b[0mpages\u001b[0m\u001b[1;33m[\u001b[0m\u001b[0mi\u001b[0m\u001b[1;33m]\u001b[0m\u001b[1;33m.\u001b[0m\u001b[0mfind\u001b[0m\u001b[1;33m(\u001b[0m\u001b[1;34m\"div\"\u001b[0m\u001b[1;33m,\u001b[0m\u001b[1;33m{\u001b[0m\u001b[1;34m\"class\"\u001b[0m\u001b[1;33m:\u001b[0m\u001b[1;34m\"decklists\"\u001b[0m\u001b[1;33m}\u001b[0m\u001b[1;33m)\u001b[0m\u001b[1;33m)\u001b[0m\u001b[1;33m\u001b[0m\u001b[1;33m\u001b[0m\u001b[0m\n\u001b[0;32m      7\u001b[0m \u001b[1;33m\u001b[0m\u001b[0m\n",
      "\u001b[1;32m~\\AppData\\Local\\Continuum\\anaconda3\\envs\\Machine_Learning\\lib\\site-packages\\bs4\\element.py\u001b[0m in \u001b[0;36m__getattr__\u001b[1;34m(self, key)\u001b[0m\n\u001b[0;32m   1882\u001b[0m     \u001b[1;32mdef\u001b[0m \u001b[0m__getattr__\u001b[0m\u001b[1;33m(\u001b[0m\u001b[0mself\u001b[0m\u001b[1;33m,\u001b[0m \u001b[0mkey\u001b[0m\u001b[1;33m)\u001b[0m\u001b[1;33m:\u001b[0m\u001b[1;33m\u001b[0m\u001b[1;33m\u001b[0m\u001b[0m\n\u001b[0;32m   1883\u001b[0m         raise AttributeError(\n\u001b[1;32m-> 1884\u001b[1;33m             \u001b[1;34m\"ResultSet object has no attribute '%s'. You're probably treating a list of items like a single item. Did you call find_all() when you meant to call find()?\"\u001b[0m \u001b[1;33m%\u001b[0m \u001b[0mkey\u001b[0m\u001b[1;33m\u001b[0m\u001b[1;33m\u001b[0m\u001b[0m\n\u001b[0m\u001b[0;32m   1885\u001b[0m         )\n",
      "\u001b[1;31mAttributeError\u001b[0m: ResultSet object has no attribute 'get'. You're probably treating a list of items like a single item. Did you call find_all() when you meant to call find()?"
     ]
    }
   ],
   "source": [
    "decks=[]\n",
    "for i in range(len(pages)):\n",
    "    decks.append(pages[i].find(\"div\",{\"class\":\"decklists\"}))\n",
    "\n",
    "    "
   ]
  },
  {
   "cell_type": "code",
   "execution_count": 122,
   "metadata": {},
   "outputs": [],
   "source": [
    "deck=[]\n",
    "for j in range(len(decks)):\n",
    "        deck.append(decks[j].find(\"div\",{\"class\":\"deck-list-text\"}))"
   ]
  },
  {
   "cell_type": "code",
   "execution_count": 139,
   "metadata": {},
   "outputs": [
    {
     "data": {
      "text/plain": [
       "'Creature (20)'"
      ]
     },
     "execution_count": 139,
     "metadata": {},
     "output_type": "execute_result"
    }
   ],
   "source": [
    "deck[0].find_all('h5')[0].text"
   ]
  },
  {
   "cell_type": "code",
   "execution_count": 153,
   "metadata": {},
   "outputs": [
    {
     "data": {
      "text/plain": [
       "1969"
      ]
     },
     "execution_count": 153,
     "metadata": {},
     "output_type": "execute_result"
    }
   ],
   "source": [
    "len(CreatureandNumber)"
   ]
  },
  {
   "cell_type": "code",
   "execution_count": 179,
   "metadata": {},
   "outputs": [
    {
     "data": {
      "text/plain": [
       "[]"
      ]
     },
     "execution_count": 179,
     "metadata": {},
     "output_type": "execute_result"
    }
   ],
   "source": [
    "temp_deck"
   ]
  },
  {
   "cell_type": "code",
   "execution_count": 271,
   "metadata": {},
   "outputs": [
    {
     "ename": "NameError",
     "evalue": "name 'encode' is not defined",
     "output_type": "error",
     "traceback": [
      "\u001b[1;31m---------------------------------------------------------------------------\u001b[0m",
      "\u001b[1;31mNameError\u001b[0m                                 Traceback (most recent call last)",
      "\u001b[1;32m<ipython-input-271-9314c05b7592>\u001b[0m in \u001b[0;36m<module>\u001b[1;34m\u001b[0m\n\u001b[1;32m----> 1\u001b[1;33m \u001b[0mencode\u001b[0m\u001b[1;33m(\u001b[0m\u001b[0mcard_link\u001b[0m\u001b[1;33m,\u001b[0m\u001b[1;34m\"ascii\"\u001b[0m\u001b[1;33m,\u001b[0m\u001b[1;34m\"ignore\"\u001b[0m\u001b[1;33m)\u001b[0m\u001b[1;33m\u001b[0m\u001b[1;33m\u001b[0m\u001b[0m\n\u001b[0m",
      "\u001b[1;31mNameError\u001b[0m: name 'encode' is not defined"
     ]
    }
   ],
   "source": [
    "encode(card_link,\"ascii\",\"ignore\")"
   ]
  },
  {
   "cell_type": "code",
   "execution_count": 272,
   "metadata": {},
   "outputs": [
    {
     "data": {
      "text/plain": [
       "list"
      ]
     },
     "execution_count": 272,
     "metadata": {},
     "output_type": "execute_result"
    }
   ],
   "source": [
    "type(card_link)"
   ]
  },
  {
   "cell_type": "code",
   "execution_count": null,
   "metadata": {},
   "outputs": [],
   "source": []
  }
 ],
 "metadata": {
  "kernelspec": {
   "display_name": "Python [conda env:Machine_Learning]",
   "language": "python",
   "name": "conda-env-Machine_Learning-py"
  },
  "language_info": {
   "codemirror_mode": {
    "name": "ipython",
    "version": 3
   },
   "file_extension": ".py",
   "mimetype": "text/x-python",
   "name": "python",
   "nbconvert_exporter": "python",
   "pygments_lexer": "ipython3",
   "version": "3.6.7"
  }
 },
 "nbformat": 4,
 "nbformat_minor": 2
}
