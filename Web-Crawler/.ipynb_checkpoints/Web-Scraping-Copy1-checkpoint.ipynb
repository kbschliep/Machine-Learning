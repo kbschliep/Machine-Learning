{
 "cells": [
  {
   "cell_type": "code",
   "execution_count": 198,
   "metadata": {},
   "outputs": [],
   "source": [
    "import requests \n",
    "from bs4 import BeautifulSoup\n",
    "import pandas as pd\n",
    "import numpy as np\n",
    "import re"
   ]
  },
  {
   "cell_type": "code",
   "execution_count": 199,
   "metadata": {},
   "outputs": [],
   "source": [
    "base_dir=\"https://magic.wizards.com/\"\n",
    "base_url=\"https://magic.wizards.com/en/content/deck-lists-magic-online-products-game-info\"\n",
    "r =  requests.get(base_url)\n",
    "c = r.content\n",
    "soup=BeautifulSoup(c,\"html.parser\")"
   ]
  },
  {
   "cell_type": "code",
   "execution_count": 202,
   "metadata": {},
   "outputs": [],
   "source": [
    "# Opens all links and gets all data\n",
    "links=[]\n",
    "for link in soup.find(\"div\",{\"class\":\"articles-listing\"}).find_all('a'):\n",
    "    a=link.get('href')\n",
    "    links.append(a)"
   ]
  },
  {
   "cell_type": "code",
   "execution_count": 203,
   "metadata": {},
   "outputs": [],
   "source": [
    "page_list=[]\n",
    "CreatureandNumber=[]\n",
    "decks_list=[]\n",
    "for page in links:\n",
    "    page_url=base_dir+page\n",
    "    r=requests.get(page_url)\n",
    "    c=r.content\n",
    "    page_soup=BeautifulSoup(c,\"html.parser\")\n",
    "    page_list.append(page_soup)\n",
    "    for decks in page_soup.find(\"div\",{\"class\":\"decklists\"}):\n",
    "        temp_deck=decks.find_all(\"span\",class_=\"meta-data\")\n",
    "        for a in range(len(temp_deck)):\n",
    "            decks_list.append(temp_deck[a])\n",
    "        for deck in decks.find(\"div\",{\"class\":\"deck-list-text\"}):\n",
    "            CreatureandNumber.append(deck.find('h5'))"
   ]
  },
  {
   "cell_type": "code",
   "execution_count": 133,
   "metadata": {},
   "outputs": [
    {
     "ename": "AttributeError",
     "evalue": "ResultSet object has no attribute 'get'. You're probably treating a list of items like a single item. Did you call find_all() when you meant to call find()?",
     "output_type": "error",
     "traceback": [
      "\u001b[1;31m---------------------------------------------------------------------------\u001b[0m",
      "\u001b[1;31mAttributeError\u001b[0m                            Traceback (most recent call last)",
      "\u001b[1;32m<ipython-input-133-d73a6ace852e>\u001b[0m in \u001b[0;36m<module>\u001b[1;34m\u001b[0m\n\u001b[0;32m      3\u001b[0m \u001b[1;32mfor\u001b[0m \u001b[0mi\u001b[0m \u001b[1;32min\u001b[0m \u001b[0mrange\u001b[0m\u001b[1;33m(\u001b[0m\u001b[0mlen\u001b[0m\u001b[1;33m(\u001b[0m\u001b[0mpages\u001b[0m\u001b[1;33m)\u001b[0m\u001b[1;33m)\u001b[0m\u001b[1;33m:\u001b[0m\u001b[1;33m\u001b[0m\u001b[1;33m\u001b[0m\u001b[0m\n\u001b[0;32m      4\u001b[0m     \u001b[0mb\u001b[0m \u001b[1;33m=\u001b[0m \u001b[0mpages\u001b[0m\u001b[1;33m[\u001b[0m\u001b[0mi\u001b[0m\u001b[1;33m]\u001b[0m\u001b[1;33m.\u001b[0m\u001b[0mfind_all\u001b[0m\u001b[1;33m(\u001b[0m\u001b[1;34m'a'\u001b[0m\u001b[1;33m)\u001b[0m\u001b[1;33m\u001b[0m\u001b[1;33m\u001b[0m\u001b[0m\n\u001b[1;32m----> 5\u001b[1;33m     \u001b[0mdeck_meta\u001b[0m\u001b[1;33m=\u001b[0m\u001b[0mb\u001b[0m\u001b[1;33m.\u001b[0m\u001b[0mget\u001b[0m\u001b[1;33m(\u001b[0m\u001b[1;34m'name'\u001b[0m\u001b[1;33m)\u001b[0m\u001b[1;33m\u001b[0m\u001b[1;33m\u001b[0m\u001b[0m\n\u001b[0m\u001b[0;32m      6\u001b[0m     \u001b[0mdecks\u001b[0m\u001b[1;33m.\u001b[0m\u001b[0mappend\u001b[0m\u001b[1;33m(\u001b[0m\u001b[0mpages\u001b[0m\u001b[1;33m[\u001b[0m\u001b[0mi\u001b[0m\u001b[1;33m]\u001b[0m\u001b[1;33m.\u001b[0m\u001b[0mfind\u001b[0m\u001b[1;33m(\u001b[0m\u001b[1;34m\"div\"\u001b[0m\u001b[1;33m,\u001b[0m\u001b[1;33m{\u001b[0m\u001b[1;34m\"class\"\u001b[0m\u001b[1;33m:\u001b[0m\u001b[1;34m\"decklists\"\u001b[0m\u001b[1;33m}\u001b[0m\u001b[1;33m)\u001b[0m\u001b[1;33m)\u001b[0m\u001b[1;33m\u001b[0m\u001b[1;33m\u001b[0m\u001b[0m\n\u001b[0;32m      7\u001b[0m \u001b[1;33m\u001b[0m\u001b[0m\n",
      "\u001b[1;32m~\\AppData\\Local\\Continuum\\anaconda3\\envs\\Machine_Learning\\lib\\site-packages\\bs4\\element.py\u001b[0m in \u001b[0;36m__getattr__\u001b[1;34m(self, key)\u001b[0m\n\u001b[0;32m   1882\u001b[0m     \u001b[1;32mdef\u001b[0m \u001b[0m__getattr__\u001b[0m\u001b[1;33m(\u001b[0m\u001b[0mself\u001b[0m\u001b[1;33m,\u001b[0m \u001b[0mkey\u001b[0m\u001b[1;33m)\u001b[0m\u001b[1;33m:\u001b[0m\u001b[1;33m\u001b[0m\u001b[1;33m\u001b[0m\u001b[0m\n\u001b[0;32m   1883\u001b[0m         raise AttributeError(\n\u001b[1;32m-> 1884\u001b[1;33m             \u001b[1;34m\"ResultSet object has no attribute '%s'. You're probably treating a list of items like a single item. Did you call find_all() when you meant to call find()?\"\u001b[0m \u001b[1;33m%\u001b[0m \u001b[0mkey\u001b[0m\u001b[1;33m\u001b[0m\u001b[1;33m\u001b[0m\u001b[0m\n\u001b[0m\u001b[0;32m   1885\u001b[0m         )\n",
      "\u001b[1;31mAttributeError\u001b[0m: ResultSet object has no attribute 'get'. You're probably treating a list of items like a single item. Did you call find_all() when you meant to call find()?"
     ]
    }
   ],
   "source": [
    "decks=[]\n",
    "for i in range(len(pages)):\n",
    "    decks.append(pages[i].find(\"div\",{\"class\":\"decklists\"}))\n",
    "\n",
    "    "
   ]
  },
  {
   "cell_type": "code",
   "execution_count": 122,
   "metadata": {},
   "outputs": [],
   "source": [
    "deck=[]\n",
    "for j in range(len(decks)):\n",
    "        deck.append(decks[j].find(\"div\",{\"class\":\"deck-list-text\"}))"
   ]
  },
  {
   "cell_type": "code",
   "execution_count": 139,
   "metadata": {},
   "outputs": [
    {
     "data": {
      "text/plain": [
       "'Creature (20)'"
      ]
     },
     "execution_count": 139,
     "metadata": {},
     "output_type": "execute_result"
    }
   ],
   "source": [
    "deck[0].find_all('h5')[0].text"
   ]
  },
  {
   "cell_type": "code",
   "execution_count": 153,
   "metadata": {},
   "outputs": [
    {
     "data": {
      "text/plain": [
       "1969"
      ]
     },
     "execution_count": 153,
     "metadata": {},
     "output_type": "execute_result"
    }
   ],
   "source": [
    "len(CreatureandNumber)"
   ]
  },
  {
   "cell_type": "code",
   "execution_count": 179,
   "metadata": {},
   "outputs": [
    {
     "data": {
      "text/plain": [
       "[]"
      ]
     },
     "execution_count": 179,
     "metadata": {},
     "output_type": "execute_result"
    }
   ],
   "source": [
    "temp_deck"
   ]
  },
  {
   "cell_type": "code",
   "execution_count": 185,
   "metadata": {},
   "outputs": [
    {
     "data": {
      "text/plain": [
       "['/en',\n",
       " None,\n",
       " None,\n",
       " '/en/mtgarena',\n",
       " None,\n",
       " 'https://magic.wizards.com/en/products/guilds-ravnica',\n",
       " 'https://magic.wizards.com/en/products/spellslinger-starter',\n",
       " '/en/products/Commander-2018',\n",
       " 'https://magic.wizards.com/en/products/core-2019',\n",
       " '/en/products/battlebond',\n",
       " '/en/products/card-set-archive',\n",
       " None,\n",
       " '/en/mtgarena',\n",
       " '/en/content/magic-online-products-game-info',\n",
       " '/en/content/magic-duels',\n",
       " None,\n",
       " '/en/products/coming-soon',\n",
       " '/en/articles/archive/CompanionApp',\n",
       " '/en/products/coming-soon',\n",
       " None,\n",
       " None,\n",
       " '/en/events/event-types',\n",
       " '/en/content/premier-events-schedule',\n",
       " None,\n",
       " '/en/events',\n",
       " '/en/events/coverage',\n",
       " '/en/content/enter-the-battlefield',\n",
       " None,\n",
       " '/en/articles/winning-decks',\n",
       " '/en/content/top-25-rankings-top-players-coverage-events',\n",
       " '/en/events/protour/teamseries',\n",
       " '/en/content/pro-players-club',\n",
       " '/en/content/hall-fame-top-players-coverage-events',\n",
       " '/en/events/coverage/top-players/statistics/event-statistics',\n",
       " None,\n",
       " '/en/content/magic-club-support-program',\n",
       " '/en/content/convention-support-program',\n",
       " '/en/events/resources/judges',\n",
       " 'http://www.wizards.com/magic/planeswalkerpoints',\n",
       " None,\n",
       " None,\n",
       " '/en/game-info/gameplay/formats/booster-draft',\n",
       " '/en/game-info/gameplay/formats/sealed-deck',\n",
       " '/en/content/standard-formats-magic-gathering',\n",
       " '/en/content/commander-format',\n",
       " '/en/game-info/gameplay/formats/brawl',\n",
       " '/en/game-info/gameplay/formats/modern',\n",
       " '/en/game-info/gameplay/rules-and-formats/formats',\n",
       " None,\n",
       " '/en/new-to-magic',\n",
       " '/en/content/welcome-back',\n",
       " None,\n",
       " 'http://gatherer.wizards.com',\n",
       " '/en/game-info/gameplay/rules-and-formats/rules',\n",
       " '/en/game-info/gameplay/rules-and-formats/banned-restricted',\n",
       " None,\n",
       " None,\n",
       " '/en/articles/columns/magic-story',\n",
       " None,\n",
       " '/en/dar',\n",
       " '/en/xln',\n",
       " '/en/rix',\n",
       " '/en/articles/columns/magic-story',\n",
       " None,\n",
       " 'https://magic.wizards.com/en/story/planes/ravnica',\n",
       " '/en/story/planes',\n",
       " None,\n",
       " '/en/story/planeswalkers/jaya-ballard',\n",
       " '/en/story/planeswalkers/karn',\n",
       " '/en/story/planeswalkers/teferi',\n",
       " '/en/story/planeswalkers',\n",
       " None,\n",
       " '/en/articles/media/wallpapers',\n",
       " '/en/articles/media/podcasts',\n",
       " 'https://www.amazon.com/s/ref=sr_pg_1?rh=n%3A283155%2Cp_45%3A3%2Cp_46%3ADuring%2Cp_47%3A2018%2Cp_n_feature_browse-bin%3A618073011%2Cp_30%3Awizards+of+the+coast&sort=relevanceexprank&unfiltered=1&ie=UTF8&qid=1527106656',\n",
       " '/en/articles',\n",
       " 'https://myaccounts.wizards.com/',\n",
       " 'http://gatherer.wizards.com',\n",
       " 'http://locator.wizards.com',\n",
       " 'https://magic.wizards.com/en/articles/archive/magic-online/play-dominaria-starting-april-20-magic-online-2018-04-11',\n",
       " 'http://magic.wizards.com/en/content/download',\n",
       " 'http://wizardsmtgo.tumblr.com/',\n",
       " 'http://magic.wizards.com/en/content/download',\n",
       " '/en/content/magic-online-products-game-info',\n",
       " '/en/content/what-magic-online-magic-online-products-game-info',\n",
       " '/en/content/schedule-magic-online-products-game-info',\n",
       " '/en/content/deck-lists-magic-online-products-game-info',\n",
       " '/en/en/gameinfo/products/magiconline/resources',\n",
       " '/en/content/create-account-1',\n",
       " '/en/articles/archive/mtgo-standings/competitive-standard-constructed-league-2018-10-25',\n",
       " '/en/articles/archive/mtgo-standings/pauper-constructed-league-2018-10-24',\n",
       " '/en/articles/archive/mtgo-standings/competitive-modern-constructed-league-2018-10-23',\n",
       " '/en/articles/archive/mtgo-standings/sealed-grn-block-ptq-2018-10-22',\n",
       " '/en/articles/archive/mtgo-standings/pauper-challenge-2018-10-22',\n",
       " '/en/articles/archive/mtgo-standings/legacy-challenge-2018-10-22',\n",
       " 'javascript:void(0);',\n",
       " '#viewport',\n",
       " 'https://www.facebook.com/MagicTheGathering',\n",
       " 'https://twitter.com/wizards_magic',\n",
       " 'https://www.twitch.tv/magic',\n",
       " 'https://www.youtube.com/channel/UC8ZGymAvfP97qJabgqUkz4A',\n",
       " 'https://www.instagram.com/wizards_magic',\n",
       " '/en/articles',\n",
       " 'https://forums.mtgarena.com',\n",
       " '/en/game-info/gameplay/rules-and-formats/formats',\n",
       " '/en/game-info/gameplay/rules-and-formats/rules',\n",
       " 'https://company.wizards.com/content/company',\n",
       " 'https://company.wizards.com/content/jobs',\n",
       " 'https://support.wizards.com/',\n",
       " 'https://wpn.wizards.com',\n",
       " 'https://avalonhill.wizards.com',\n",
       " 'https://dnd.wizards.com',\n",
       " 'https://dm.takaratomy.co.jp',\n",
       " 'https://magic.wizards.com',\n",
       " 'https://company.wizards.com',\n",
       " 'https://www.hasbro.com/',\n",
       " 'https://www.esrb.org/confirm/wizards-confirmation.aspx',\n",
       " 'https://company.wizards.com/tou',\n",
       " 'https://company.wizards.com/conduct',\n",
       " 'https://company.wizards.com/policy',\n",
       " 'https://support.wizards.com/',\n",
       " '/en/articles/archive/our-cookie-policy-2013-10-28',\n",
       " 'https://company.wizards.com/fancontentpolicy',\n",
       " 'http://company.wizards.com/policies/web/cookie',\n",
       " 'http://company.wizards.com/policies/web/cookie']"
      ]
     },
     "execution_count": 185,
     "metadata": {},
     "output_type": "execute_result"
    }
   ],
   "source": [
    "links"
   ]
  },
  {
   "cell_type": "code",
   "execution_count": null,
   "metadata": {},
   "outputs": [],
   "source": []
  }
 ],
 "metadata": {
  "kernelspec": {
   "display_name": "Python [conda env:Machine_Learning]",
   "language": "python",
   "name": "conda-env-Machine_Learning-py"
  },
  "language_info": {
   "codemirror_mode": {
    "name": "ipython",
    "version": 3
   },
   "file_extension": ".py",
   "mimetype": "text/x-python",
   "name": "python",
   "nbconvert_exporter": "python",
   "pygments_lexer": "ipython3",
   "version": "3.6.7"
  }
 },
 "nbformat": 4,
 "nbformat_minor": 2
}
